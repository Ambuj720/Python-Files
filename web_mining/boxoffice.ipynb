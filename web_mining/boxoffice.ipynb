{
 "cells": [
  {
   "cell_type": "code",
   "execution_count": 16,
   "metadata": {},
   "outputs": [],
   "source": [
    "import requests\n",
    "from bs4 import BeautifulSoup\n",
    "import pandas as pd\n",
    "page='https://www.imdb.com/chart/boxoffice/?ref_=nv_ch_cht'"
   ]
  },
  {
   "cell_type": "code",
   "execution_count": 3,
   "metadata": {},
   "outputs": [
    {
     "name": "stdout",
     "output_type": "stream",
     "text": [
      "Page Ready\n"
     ]
    }
   ],
   "source": [
    "response=requests.get(page)\n",
    "soup=BeautifulSoup(response.text,'lxml')\n",
    "print('Page Ready')"
   ]
  },
  {
   "cell_type": "code",
   "execution_count": 5,
   "metadata": {},
   "outputs": [],
   "source": [
    "target=soup.find('table',attrs={'class':'chart'}).tbody"
   ]
  },
  {
   "cell_type": "code",
   "execution_count": 6,
   "metadata": {},
   "outputs": [
    {
     "data": {
      "text/plain": [
       "10"
      ]
     },
     "execution_count": 6,
     "metadata": {},
     "output_type": "execute_result"
    }
   ],
   "source": [
    "rows=target.find_all('tr')\n",
    "len(rows)"
   ]
  },
  {
   "cell_type": "code",
   "execution_count": 27,
   "metadata": {},
   "outputs": [],
   "source": [
    "movies=[]\n",
    "for row in rows:\n",
    "    title=row.find('td',attrs={'class':'titleColumn'})\n",
    "    rating=row.find('td',attrs={'class':'ratingColumn'})\n",
    "    gross=row.find_all('td',attrs={'class':'ratingColumn'})[-1]\n",
    "    week=row.find('td',attrs={'class':'weeksColumn'})\n",
    "    movies.append({\n",
    "        'title':title.text.strip(),\n",
    "        'weekend':rating.text.strip(),\n",
    "        'gross':gross.text.strip(),\n",
    "        'week':week.text.strip()\n",
    "    })\n",
    "data=pd.DataFrame(movies)\n",
    "data\n",
    "data.to_csv('boxoffice.csv')"
   ]
  },
  {
   "cell_type": "code",
   "execution_count": null,
   "metadata": {},
   "outputs": [],
   "source": []
  }
 ],
 "metadata": {
  "interpreter": {
   "hash": "14be6224c2981fa6484923dc5e53a5bfbd3f9d5b4557d53514eb49a573700d58"
  },
  "kernelspec": {
   "display_name": "Python 3.9.7 ('base')",
   "language": "python",
   "name": "python3"
  },
  "language_info": {
   "codemirror_mode": {
    "name": "ipython",
    "version": 3
   },
   "file_extension": ".py",
   "mimetype": "text/x-python",
   "name": "python",
   "nbconvert_exporter": "python",
   "pygments_lexer": "ipython3",
   "version": "3.9.7"
  },
  "orig_nbformat": 4
 },
 "nbformat": 4,
 "nbformat_minor": 2
}
