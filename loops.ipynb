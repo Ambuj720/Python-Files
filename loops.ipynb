{
 "cells": [
  {
   "cell_type": "markdown",
   "metadata": {},
   "source": [
    "# Loops"
   ]
  },
  {
   "cell_type": "code",
   "execution_count": 4,
   "metadata": {},
   "outputs": [
    {
     "name": "stdout",
     "output_type": "stream",
     "text": [
      "P\n",
      "Y\n",
      "T\n",
      "H\n",
      "O\n",
      "N\n"
     ]
    }
   ],
   "source": [
    "x='PYTHON'\n",
    "for i in x:\n",
    "    print (i)"
   ]
  },
  {
   "cell_type": "code",
   "execution_count": 4,
   "metadata": {},
   "outputs": [
    {
     "name": "stdout",
     "output_type": "stream",
     "text": [
      "I have Apple\n",
      "I have Banana\n",
      "I have Lemon\n"
     ]
    }
   ],
   "source": [
    "fruits = ['Apple','Banana','Lemon']\n",
    "for item in fruits:\n",
    "    print(f'I have {item}')"
   ]
  },
  {
   "cell_type": "code",
   "execution_count": 13,
   "metadata": {},
   "outputs": [],
   "source": [
    "movies=['Tom and Jerry','Cristiano','The Holy Grill','Foul']"
   ]
  },
  {
   "cell_type": "code",
   "execution_count": 9,
   "metadata": {},
   "outputs": [
    {
     "name": "stdout",
     "output_type": "stream",
     "text": [
      "Tom and Jerry 13\n",
      "Cristiano 9\n",
      "The Holy Grill 14\n",
      "Foul 4\n"
     ]
    }
   ],
   "source": [
    "for movie in movies:\n",
    "    print(movie,len(movie))"
   ]
  },
  {
   "cell_type": "code",
   "execution_count": 11,
   "metadata": {},
   "outputs": [
    {
     "name": "stdout",
     "output_type": "stream",
     "text": [
      "1 - Tom and Jerry\n",
      "2 - Cristiano\n",
      "3 - The Holy Grill\n",
      "4 - Foul\n"
     ]
    }
   ],
   "source": [
    "for i,name in enumerate(movies):\n",
    "    print(f\"{i+1} - {name}\")"
   ]
  },
  {
   "cell_type": "code",
   "execution_count": 12,
   "metadata": {},
   "outputs": [
    {
     "name": "stdout",
     "output_type": "stream",
     "text": [
      "0 - Tom and Jerry\n",
      "1 - Cristiano\n",
      "2 - The Holy Grill\n",
      "3 - Foul\n"
     ]
    }
   ],
   "source": [
    "for i,name in enumerate(movies):\n",
    "    print(f\"{i} - {name}\")"
   ]
  },
  {
   "cell_type": "code",
   "execution_count": 15,
   "metadata": {},
   "outputs": [
    {
     "name": "stdout",
     "output_type": "stream",
     "text": [
      "You got my point 0\n",
      "You got my point 1\n",
      "You got my point 2\n",
      "You got my point 3\n",
      "You got my point 4\n",
      "You got my point 5\n",
      "You got my point 6\n",
      "You got my point 7\n",
      "You got my point 8\n"
     ]
    }
   ],
   "source": [
    "for i in range(9):\n",
    "    print('You got my point',i)"
   ]
  },
  {
   "cell_type": "code",
   "execution_count": 16,
   "metadata": {},
   "outputs": [
    {
     "name": "stdout",
     "output_type": "stream",
     "text": [
      "Hello 2\n",
      "Hello 3\n",
      "Hello 4\n",
      "Hello 5\n",
      "Hello 6\n",
      "Hello 7\n",
      "Hello 8\n",
      "Hello 9\n",
      "Hello 10\n"
     ]
    }
   ],
   "source": [
    "for num in range (2,11):\n",
    "    print('Hello',num)"
   ]
  },
  {
   "cell_type": "code",
   "execution_count": 19,
   "metadata": {},
   "outputs": [
    {
     "name": "stdout",
     "output_type": "stream",
     "text": [
      "Level 1\n",
      "Level 31\n",
      "Level 61\n",
      "Level 91\n"
     ]
    }
   ],
   "source": [
    "for num in range (1,100,30):\n",
    "    print('Level',num)"
   ]
  },
  {
   "cell_type": "code",
   "execution_count": 23,
   "metadata": {},
   "outputs": [
    {
     "name": "stdout",
     "output_type": "stream",
     "text": [
      "Level 100\n",
      "Level 90\n",
      "Level 80\n",
      "Level 70\n",
      "Level 60\n",
      "Level 50\n",
      "Level 40\n",
      "Level 30\n",
      "Level 20\n",
      "Level 10\n"
     ]
    }
   ],
   "source": [
    "for num in range (100,1,-10):\n",
    "    print('Level',num)"
   ]
  },
  {
   "cell_type": "code",
   "execution_count": 2,
   "metadata": {},
   "outputs": [
    {
     "name": "stdout",
     "output_type": "stream",
     "text": [
      "😂\n",
      "😂😂\n",
      "😂😂😂\n",
      "😂😂😂😂\n",
      "😂😂😂😂😂\n",
      "😂😂😂😂😂😂\n",
      "😂😂😂😂😂😂😂\n",
      "😂😂😂😂😂😂😂😂\n",
      "😂😂😂😂😂😂😂😂😂\n"
     ]
    }
   ],
   "source": [
    "for i in range(1,10):\n",
    "    print(i * '😂👌')"
   ]
  },
  {
   "cell_type": "markdown",
   "metadata": {},
   "source": [
    "### WAP \n",
    "- print if nos. are even or odd 1,100\n",
    "- sum of all even nos. from 2 to 100\n",
    "- Avg. from 1 - 100"
   ]
  },
  {
   "cell_type": "code",
   "execution_count": 27,
   "metadata": {},
   "outputs": [
    {
     "name": "stdout",
     "output_type": "stream",
     "text": [
      "1 is Odd\n",
      "2 is Even\n",
      "3 is Odd\n",
      "4 is Even\n",
      "5 is Odd\n",
      "6 is Even\n",
      "7 is Odd\n",
      "8 is Even\n",
      "9 is Odd\n",
      "10 is Even\n",
      "11 is Odd\n",
      "12 is Even\n",
      "13 is Odd\n",
      "14 is Even\n",
      "15 is Odd\n",
      "16 is Even\n",
      "17 is Odd\n",
      "18 is Even\n",
      "19 is Odd\n",
      "20 is Even\n",
      "21 is Odd\n",
      "22 is Even\n",
      "23 is Odd\n",
      "24 is Even\n",
      "25 is Odd\n",
      "26 is Even\n",
      "27 is Odd\n",
      "28 is Even\n",
      "29 is Odd\n",
      "30 is Even\n",
      "31 is Odd\n",
      "32 is Even\n",
      "33 is Odd\n",
      "34 is Even\n",
      "35 is Odd\n",
      "36 is Even\n",
      "37 is Odd\n",
      "38 is Even\n",
      "39 is Odd\n",
      "40 is Even\n",
      "41 is Odd\n",
      "42 is Even\n",
      "43 is Odd\n",
      "44 is Even\n",
      "45 is Odd\n",
      "46 is Even\n",
      "47 is Odd\n",
      "48 is Even\n",
      "49 is Odd\n",
      "50 is Even\n",
      "51 is Odd\n",
      "52 is Even\n",
      "53 is Odd\n",
      "54 is Even\n",
      "55 is Odd\n",
      "56 is Even\n",
      "57 is Odd\n",
      "58 is Even\n",
      "59 is Odd\n",
      "60 is Even\n",
      "61 is Odd\n",
      "62 is Even\n",
      "63 is Odd\n",
      "64 is Even\n",
      "65 is Odd\n",
      "66 is Even\n",
      "67 is Odd\n",
      "68 is Even\n",
      "69 is Odd\n",
      "70 is Even\n",
      "71 is Odd\n",
      "72 is Even\n",
      "73 is Odd\n",
      "74 is Even\n",
      "75 is Odd\n",
      "76 is Even\n",
      "77 is Odd\n",
      "78 is Even\n",
      "79 is Odd\n",
      "80 is Even\n",
      "81 is Odd\n",
      "82 is Even\n",
      "83 is Odd\n",
      "84 is Even\n",
      "85 is Odd\n",
      "86 is Even\n",
      "87 is Odd\n",
      "88 is Even\n",
      "89 is Odd\n",
      "90 is Even\n",
      "91 is Odd\n",
      "92 is Even\n",
      "93 is Odd\n",
      "94 is Even\n",
      "95 is Odd\n",
      "96 is Even\n",
      "97 is Odd\n",
      "98 is Even\n",
      "99 is Odd\n",
      "100 is Even\n"
     ]
    }
   ],
   "source": [
    "for i in range (1,101):\n",
    "    if i%2==0:\n",
    "        print(i,'is Even')\n",
    "    else:\n",
    "        print(i,'is Odd')"
   ]
  },
  {
   "cell_type": "code",
   "execution_count": 40,
   "metadata": {},
   "outputs": [
    {
     "name": "stdout",
     "output_type": "stream",
     "text": [
      "Sum of Even numbers >  2550\n"
     ]
    }
   ],
   "source": [
    "su=0\n",
    "for i in range (1,101):\n",
    "    if (i%2==0):\n",
    "        su=su+i\n",
    "print('Sum of Even numbers > ', su)"
   ]
  },
  {
   "cell_type": "code",
   "execution_count": 43,
   "metadata": {},
   "outputs": [
    {
     "name": "stdout",
     "output_type": "stream",
     "text": [
      "50.5\n"
     ]
    }
   ],
   "source": [
    "su=0\n",
    "avg=0\n",
    "for i in range (1,101):\n",
    "    su=su+i\n",
    "    avg=su/100\n",
    "print(avg)\n"
   ]
  },
  {
   "cell_type": "code",
   "execution_count": 11,
   "metadata": {},
   "outputs": [],
   "source": [
    "#knive implementation\n",
    "#using print "
   ]
  },
  {
   "cell_type": "code",
   "execution_count": 17,
   "metadata": {},
   "outputs": [
    {
     "name": "stdout",
     "output_type": "stream",
     "text": [
      "1 2 3 4 5\n",
      "2 4 6 8 10\n",
      "3 6 9 12 15\n",
      "4 8 12 16 20\n",
      "5 10 15 20 25\n"
     ]
    }
   ],
   "source": [
    "for i in range(1,6):\n",
    "    print(1*i,2*i,3*i,4*i,5*i)"
   ]
  },
  {
   "cell_type": "code",
   "execution_count": 16,
   "metadata": {},
   "outputs": [
    {
     "name": "stdout",
     "output_type": "stream",
     "text": [
      "1,2,3,4,5,\n",
      "2,4,6,8,10,\n",
      "3,6,9,12,15,\n",
      "4,8,12,16,20,\n",
      "5,10,15,20,25,\n"
     ]
    }
   ],
   "source": [
    "#best implementation dynamic\n",
    "for row in range(1,6):\n",
    "    for coloumn in range (1,6):\n",
    "        print(row*coloumn,end='')\n",
    "    print()"
   ]
  },
  {
   "cell_type": "code",
   "execution_count": 19,
   "metadata": {},
   "outputs": [
    {
     "name": "stdout",
     "output_type": "stream",
     "text": [
      "Run\n",
      "Run\n",
      "Run\n",
      "Run\n",
      "Stop\n"
     ]
    }
   ],
   "source": [
    "x=1\n",
    "while x<5:\n",
    "    print('Run')\n",
    "    x+=1\n",
    "print('Stop')"
   ]
  },
  {
   "cell_type": "code",
   "execution_count": 21,
   "metadata": {},
   "outputs": [
    {
     "name": "stdout",
     "output_type": "stream",
     "text": [
      "The sum is 55\n"
     ]
    }
   ],
   "source": [
    "n=10\n",
    "sum=0\n",
    "i=1\n",
    "while i<=n:\n",
    "    sum=sum+i\n",
    "    i=i+1\n",
    "print('The sum is',sum)"
   ]
  },
  {
   "cell_type": "code",
   "execution_count": 36,
   "metadata": {},
   "outputs": [
    {
     "ename": "KeyboardInterrupt",
     "evalue": "Interrupted by user",
     "output_type": "error",
     "traceback": [
      "\u001b[1;31m---------------------------------------------------------------------------\u001b[0m",
      "\u001b[1;31mKeyboardInterrupt\u001b[0m                         Traceback (most recent call last)",
      "Input \u001b[1;32mIn [36]\u001b[0m, in \u001b[0;36m<module>\u001b[1;34m\u001b[0m\n\u001b[0;32m      1\u001b[0m poem\u001b[38;5;241m=\u001b[39m\u001b[38;5;124m'\u001b[39m\u001b[38;5;124m'\u001b[39m\n\u001b[1;32m----> 2\u001b[0m \u001b[38;5;28;01mwhile\u001b[39;00m \u001b[38;5;28;43minput\u001b[39;49m\u001b[43m(\u001b[49m\u001b[38;5;124;43m'\u001b[39;49m\u001b[38;5;124;43mEnter another line [Y/N]\u001b[39;49m\u001b[38;5;124;43m'\u001b[39;49m\u001b[43m)\u001b[49m\u001b[38;5;241m==\u001b[39m\u001b[38;5;124m'\u001b[39m\u001b[38;5;124mY\u001b[39m\u001b[38;5;124m'\u001b[39m:\n\u001b[0;32m      3\u001b[0m     line\u001b[38;5;241m=\u001b[39m\u001b[38;5;28minput\u001b[39m(\u001b[38;5;124m'\u001b[39m\u001b[38;5;124m>>\u001b[39m\u001b[38;5;124m'\u001b[39m)\n\u001b[0;32m      4\u001b[0m     poem \u001b[38;5;241m+\u001b[39m\u001b[38;5;241m=\u001b[39m line\n",
      "File \u001b[1;32m~\\miniconda3\\lib\\site-packages\\ipykernel\\kernelbase.py:1044\u001b[0m, in \u001b[0;36mKernel.raw_input\u001b[1;34m(self, prompt)\u001b[0m\n\u001b[0;32m   1040\u001b[0m \u001b[38;5;28;01mif\u001b[39;00m \u001b[38;5;129;01mnot\u001b[39;00m \u001b[38;5;28mself\u001b[39m\u001b[38;5;241m.\u001b[39m_allow_stdin:\n\u001b[0;32m   1041\u001b[0m     \u001b[38;5;28;01mraise\u001b[39;00m StdinNotImplementedError(\n\u001b[0;32m   1042\u001b[0m         \u001b[38;5;124m\"\u001b[39m\u001b[38;5;124mraw_input was called, but this frontend does not support input requests.\u001b[39m\u001b[38;5;124m\"\u001b[39m\n\u001b[0;32m   1043\u001b[0m     )\n\u001b[1;32m-> 1044\u001b[0m \u001b[38;5;28;01mreturn\u001b[39;00m \u001b[38;5;28;43mself\u001b[39;49m\u001b[38;5;241;43m.\u001b[39;49m\u001b[43m_input_request\u001b[49m\u001b[43m(\u001b[49m\n\u001b[0;32m   1045\u001b[0m \u001b[43m    \u001b[49m\u001b[38;5;28;43mstr\u001b[39;49m\u001b[43m(\u001b[49m\u001b[43mprompt\u001b[49m\u001b[43m)\u001b[49m\u001b[43m,\u001b[49m\n\u001b[0;32m   1046\u001b[0m \u001b[43m    \u001b[49m\u001b[38;5;28;43mself\u001b[39;49m\u001b[38;5;241;43m.\u001b[39;49m\u001b[43m_parent_ident\u001b[49m\u001b[43m[\u001b[49m\u001b[38;5;124;43m\"\u001b[39;49m\u001b[38;5;124;43mshell\u001b[39;49m\u001b[38;5;124;43m\"\u001b[39;49m\u001b[43m]\u001b[49m\u001b[43m,\u001b[49m\n\u001b[0;32m   1047\u001b[0m \u001b[43m    \u001b[49m\u001b[38;5;28;43mself\u001b[39;49m\u001b[38;5;241;43m.\u001b[39;49m\u001b[43mget_parent\u001b[49m\u001b[43m(\u001b[49m\u001b[38;5;124;43m\"\u001b[39;49m\u001b[38;5;124;43mshell\u001b[39;49m\u001b[38;5;124;43m\"\u001b[39;49m\u001b[43m)\u001b[49m\u001b[43m,\u001b[49m\n\u001b[0;32m   1048\u001b[0m \u001b[43m    \u001b[49m\u001b[43mpassword\u001b[49m\u001b[38;5;241;43m=\u001b[39;49m\u001b[38;5;28;43;01mFalse\u001b[39;49;00m\u001b[43m,\u001b[49m\n\u001b[0;32m   1049\u001b[0m \u001b[43m\u001b[49m\u001b[43m)\u001b[49m\n",
      "File \u001b[1;32m~\\miniconda3\\lib\\site-packages\\ipykernel\\kernelbase.py:1089\u001b[0m, in \u001b[0;36mKernel._input_request\u001b[1;34m(self, prompt, ident, parent, password)\u001b[0m\n\u001b[0;32m   1086\u001b[0m             \u001b[38;5;28;01mbreak\u001b[39;00m\n\u001b[0;32m   1087\u001b[0m \u001b[38;5;28;01mexcept\u001b[39;00m \u001b[38;5;167;01mKeyboardInterrupt\u001b[39;00m:\n\u001b[0;32m   1088\u001b[0m     \u001b[38;5;66;03m# re-raise KeyboardInterrupt, to truncate traceback\u001b[39;00m\n\u001b[1;32m-> 1089\u001b[0m     \u001b[38;5;28;01mraise\u001b[39;00m \u001b[38;5;167;01mKeyboardInterrupt\u001b[39;00m(\u001b[38;5;124m\"\u001b[39m\u001b[38;5;124mInterrupted by user\u001b[39m\u001b[38;5;124m\"\u001b[39m) \u001b[38;5;28;01mfrom\u001b[39;00m \u001b[38;5;28mNone\u001b[39m\n\u001b[0;32m   1090\u001b[0m \u001b[38;5;28;01mexcept\u001b[39;00m \u001b[38;5;167;01mException\u001b[39;00m:\n\u001b[0;32m   1091\u001b[0m     \u001b[38;5;28mself\u001b[39m\u001b[38;5;241m.\u001b[39mlog\u001b[38;5;241m.\u001b[39mwarning(\u001b[38;5;124m\"\u001b[39m\u001b[38;5;124mInvalid Message:\u001b[39m\u001b[38;5;124m\"\u001b[39m, exc_info\u001b[38;5;241m=\u001b[39m\u001b[38;5;28;01mTrue\u001b[39;00m)\n",
      "\u001b[1;31mKeyboardInterrupt\u001b[0m: Interrupted by user"
     ]
    }
   ],
   "source": [
    "poem=''\n",
    "while input('Enter another line [Y/N]')=='Y':\n",
    "    line=input('>>')\n",
    "    poem += line\n",
    "chars=len(poem)\n",
    "print(f\"total chars in poem is {chars}\")"
   ]
  },
  {
   "cell_type": "code",
   "execution_count": 2,
   "metadata": {},
   "outputs": [
    {
     "name": "stdout",
     "output_type": "stream",
     "text": [
      "55\n"
     ]
    }
   ],
   "source": [
    "#continue\n",
    "x = [1,2,'',3,4,5,'',6,7,'',8,9,10]\n",
    "total = 0\n",
    "for i in x:\n",
    "    if isinstance(i,str):\n",
    "        continue\n",
    "    total+=i\n",
    "print(total)"
   ]
  },
  {
   "cell_type": "code",
   "execution_count": 3,
   "metadata": {},
   "outputs": [
    {
     "name": "stdout",
     "output_type": "stream",
     "text": [
      "55\n"
     ]
    }
   ],
   "source": [
    "#continue\n",
    "x = [1,2,'',3,4,5,'',6,7,'',8,9,10]\n",
    "total = 0\n",
    "for i in x:\n",
    "    if isinstance(i,int):\n",
    "        total+=i\n",
    "print(total)"
   ]
  },
  {
   "cell_type": "code",
   "execution_count": 1,
   "metadata": {},
   "outputs": [],
   "source": [
    "poem=''\n",
    "while True:\n",
    "    line=input('Enter poem lines')\n",
    "    if line:\n",
    "        poem+=line+'\\n'\n",
    "    else:\n",
    "        break\n",
    "print('Total chars >',len(poem))\n",
    "print(poem)"
   ]
  },
  {
   "cell_type": "code",
   "execution_count": null,
   "metadata": {},
   "outputs": [],
   "source": []
  }
 ],
 "metadata": {
  "interpreter": {
   "hash": "14be6224c2981fa6484923dc5e53a5bfbd3f9d5b4557d53514eb49a573700d58"
  },
  "kernelspec": {
   "display_name": "Python 3.9.5 64-bit ('base': conda)",
   "language": "python",
   "name": "python3"
  },
  "language_info": {
   "codemirror_mode": {
    "name": "ipython",
    "version": 3
   },
   "file_extension": ".py",
   "mimetype": "text/x-python",
   "name": "python",
   "nbconvert_exporter": "python",
   "pygments_lexer": "ipython3",
   "version": "3.9.5"
  },
  "orig_nbformat": 4
 },
 "nbformat": 4,
 "nbformat_minor": 2
}
