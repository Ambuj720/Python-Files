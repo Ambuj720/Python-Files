{
 "cells": [
  {
   "cell_type": "code",
   "execution_count": 1,
   "metadata": {},
   "outputs": [
    {
     "name": "stdout",
     "output_type": "stream",
     "text": [
      "Hello\n"
     ]
    }
   ],
   "source": [
    "my_string='Hello'\n",
    "print(my_string)"
   ]
  },
  {
   "cell_type": "code",
   "execution_count": 2,
   "metadata": {},
   "outputs": [
    {
     "name": "stdout",
     "output_type": "stream",
     "text": [
      "Hello\n"
     ]
    }
   ],
   "source": [
    "my_string=\"Hello\"\n",
    "print(my_string)"
   ]
  },
  {
   "cell_type": "code",
   "execution_count": 3,
   "metadata": {},
   "outputs": [
    {
     "name": "stdout",
     "output_type": "stream",
     "text": [
      "Hello\n"
     ]
    }
   ],
   "source": [
    "my_string='''Hello'''\n",
    "print(my_string)"
   ]
  },
  {
   "cell_type": "code",
   "execution_count": 4,
   "metadata": {},
   "outputs": [
    {
     "name": "stdout",
     "output_type": "stream",
     "text": [
      "Hello\n",
      "Welcome\n"
     ]
    }
   ],
   "source": [
    "my_string='''Hello\n",
    "Welcome'''\n",
    "print(my_string)"
   ]
  },
  {
   "cell_type": "code",
   "execution_count": 5,
   "metadata": {},
   "outputs": [
    {
     "name": "stdout",
     "output_type": "stream",
     "text": [
      "Hello' World\n"
     ]
    }
   ],
   "source": [
    "my_string=\"Hello' World\"\n",
    "print(my_string)"
   ]
  },
  {
   "cell_type": "code",
   "execution_count": 6,
   "metadata": {},
   "outputs": [
    {
     "name": "stdout",
     "output_type": "stream",
     "text": [
      "I shrank the monster to 1\" by my shrinking gun \n"
     ]
    }
   ],
   "source": [
    "my_string='I shrank the monster to 1\" by my shrinking gun '\n",
    "print(my_string)"
   ]
  },
  {
   "cell_type": "markdown",
   "metadata": {},
   "source": [
    "String -> what u need to know\n",
    "\n",
    "1. Indexing and Slicing\n",
    "2. Functions"
   ]
  },
  {
   "cell_type": "code",
   "execution_count": 7,
   "metadata": {},
   "outputs": [
    {
     "name": "stdout",
     "output_type": "stream",
     "text": [
      "string is ->  DIGIPODIUM\n"
     ]
    }
   ],
   "source": [
    "str='DIGIPODIUM'\n",
    "print('string is -> ',str)"
   ]
  },
  {
   "cell_type": "code",
   "execution_count": 10,
   "metadata": {},
   "outputs": [
    {
     "name": "stdout",
     "output_type": "stream",
     "text": [
      "str[0] D\n",
      "str[1] I\n",
      "str[-1] M\n",
      "str[-2] U\n"
     ]
    }
   ],
   "source": [
    "print('str[0]', str[0])\n",
    "print('str[1]', str[1])\n",
    "print('str[-1]', str[-1])\n",
    "print('str[-2]', str[-2])"
   ]
  },
  {
   "cell_type": "code",
   "execution_count": 2,
   "metadata": {},
   "outputs": [
    {
     "name": "stdout",
     "output_type": "stream",
     "text": [
      "AMBUJ \n"
     ]
    }
   ],
   "source": [
    "name=\"AMBUJ SRIVASTAVA\"\n",
    "name[1]\n",
    "slice1=name[0:6]\n",
    "print(slice1)"
   ]
  },
  {
   "cell_type": "code",
   "execution_count": 12,
   "metadata": {},
   "outputs": [
    {
     "data": {
      "text/plain": [
       "'AM'"
      ]
     },
     "execution_count": 12,
     "metadata": {},
     "output_type": "execute_result"
    }
   ],
   "source": [
    "name[0]+name[1]"
   ]
  },
  {
   "cell_type": "code",
   "execution_count": 13,
   "metadata": {},
   "outputs": [
    {
     "name": "stdout",
     "output_type": "stream",
     "text": [
      "POD\n"
     ]
    }
   ],
   "source": [
    "s='DIGIPODIUM'\n",
    "slice1=s[4:7]\n",
    "print(slice1)"
   ]
  },
  {
   "cell_type": "code",
   "execution_count": 18,
   "metadata": {},
   "outputs": [
    {
     "name": "stdout",
     "output_type": "stream",
     "text": [
      "DIGI\n",
      "DIGI\n"
     ]
    }
   ],
   "source": [
    "s='DIGIPODIUM'\n",
    "slice1=s[0:4]\n",
    "slice2=s[:4]\n",
    "print(slice1)\n",
    "print(slice2)"
   ]
  },
  {
   "cell_type": "code",
   "execution_count": 23,
   "metadata": {},
   "outputs": [
    {
     "name": "stdout",
     "output_type": "stream",
     "text": [
      "PODIUM\n",
      "PODIUM\n"
     ]
    }
   ],
   "source": [
    "s='DIGIPODIUM'\n",
    "slice1=s[4:len(s)]\n",
    "slice2=s[4:]\n",
    "print(slice1)\n",
    "print(slice2)\n"
   ]
  },
  {
   "cell_type": "code",
   "execution_count": 28,
   "metadata": {},
   "outputs": [
    {
     "data": {
      "text/plain": [
       "('A', 'ऽ', 'き')"
      ]
     },
     "execution_count": 28,
     "metadata": {},
     "output_type": "execute_result"
    }
   ],
   "source": [
    "x=chr(65)\n",
    "x\n",
    "y=chr(2365)\n",
    "y\n",
    "z=chr(12365)\n",
    "x,y,z"
   ]
  },
  {
   "cell_type": "code",
   "execution_count": 29,
   "metadata": {},
   "outputs": [
    {
     "ename": "TypeError",
     "evalue": "ord() expected a character, but string of length 0 found",
     "output_type": "error",
     "traceback": [
      "\u001b[1;31m---------------------------------------------------------------------------\u001b[0m",
      "\u001b[1;31mTypeError\u001b[0m                                 Traceback (most recent call last)",
      "Input \u001b[1;32mIn [29]\u001b[0m, in \u001b[0;36m<module>\u001b[1;34m\u001b[0m\n\u001b[0;32m      1\u001b[0m x\u001b[38;5;241m=\u001b[39m\u001b[38;5;28mord\u001b[39m(\u001b[38;5;124m'\u001b[39m\u001b[38;5;124mA\u001b[39m\u001b[38;5;124m'\u001b[39m)\n\u001b[0;32m      2\u001b[0m y\u001b[38;5;241m=\u001b[39m\u001b[38;5;28mord\u001b[39m(\u001b[38;5;124m'\u001b[39m\u001b[38;5;124ma\u001b[39m\u001b[38;5;124m'\u001b[39m)\n\u001b[1;32m----> 3\u001b[0m z\u001b[38;5;241m=\u001b[39m\u001b[38;5;28;43mord\u001b[39;49m\u001b[43m(\u001b[49m\u001b[38;5;124;43m'\u001b[39;49m\u001b[38;5;124;43m'\u001b[39;49m\u001b[43m)\u001b[49m\n\u001b[0;32m      4\u001b[0m x,y,z\n",
      "\u001b[1;31mTypeError\u001b[0m: ord() expected a character, but string of length 0 found"
     ]
    }
   ],
   "source": [
    "x=ord('A')\n",
    "y=ord('a')\n",
    "z=ord('')\n",
    "x,y,z"
   ]
  },
  {
   "cell_type": "code",
   "execution_count": 33,
   "metadata": {},
   "outputs": [
    {
     "name": "stdout",
     "output_type": "stream",
     "text": [
      "0 -> \u0000 \n",
      "1 -> \u0001 2 -> \u0002 3 -> \u0003 4 -> \u0004 5 -> \u0005 6 -> \u0006 7 -> \u0007 8 -> 9 -> \t 10 -> \n",
      " \n",
      " 14 -> \u000e 15 -> \u000f 16 -> \u0010 17 -> \u0011 18 -> \u0012 19 -> \u0013 20 -> \u0014 \n",
      "21 -> \u0015 22 -> \u0016 23 -> \u0017 24 -> \u0018 25 -> \u0019 26 -> \u001a 27 -> \u001b 28 -> \u001c 29 -> \u001d 30 -> \u001e \n",
      "31 -> \u001f 32 ->   33 -> ! 34 -> \" 35 -> # 36 -> $ 37 -> % 38 -> & 39 -> ' 40 -> ( \n",
      "41 -> ) 42 -> * 43 -> + 44 -> , 45 -> - 46 -> . 47 -> / 48 -> 0 49 -> 1 50 -> 2 \n",
      "51 -> 3 52 -> 4 53 -> 5 54 -> 6 55 -> 7 56 -> 8 57 -> 9 58 -> : 59 -> ; 60 -> < \n",
      "61 -> = 62 -> > 63 -> ? 64 -> @ 65 -> A 66 -> B 67 -> C 68 -> D 69 -> E 70 -> F \n",
      "71 -> G 72 -> H 73 -> I 74 -> J 75 -> K 76 -> L 77 -> M 78 -> N 79 -> O 80 -> P \n",
      "81 -> Q 82 -> R 83 -> S 84 -> T 85 -> U 86 -> V 87 -> W 88 -> X 89 -> Y 90 -> Z \n",
      "91 -> [ 92 -> \\ 93 -> ] 94 -> ^ 95 -> _ 96 -> ` 97 -> a 98 -> b 99 -> c 100 -> d \n",
      "101 -> e 102 -> f 103 -> g 104 -> h 105 -> i 106 -> j 107 -> k 108 -> l 109 -> m 110 -> n \n",
      "111 -> o 112 -> p 113 -> q 114 -> r 115 -> s 116 -> t 117 -> u 118 -> v 119 -> w 120 -> x \n",
      "121 -> y 122 -> z 123 -> { 124 -> | 125 -> } 126 -> ~ 127 ->  128 ->  129 ->  130 ->  \n",
      "131 ->  132 ->  133 ->  134 ->  135 ->  136 ->  137 ->  138 ->  139 ->  140 ->  \n",
      "141 ->  142 ->  143 ->  144 ->  145 ->  146 ->  147 ->  148 ->  149 ->  150 ->  \n",
      "151 ->  152 ->  153 ->  154 ->  155 ->  156 ->  157 ->  158 ->  159 ->  160 ->   \n",
      "161 -> ¡ 162 -> ¢ 163 -> £ 164 -> ¤ 165 -> ¥ 166 -> ¦ 167 -> § 168 -> ¨ 169 -> © 170 -> ª \n",
      "171 -> « 172 -> ¬ 173 -> ­ 174 -> ® 175 -> ¯ 176 -> ° 177 -> ± 178 -> ² 179 -> ³ 180 -> ´ \n",
      "181 -> µ 182 -> ¶ 183 -> · 184 -> ¸ 185 -> ¹ 186 -> º 187 -> » 188 -> ¼ 189 -> ½ 190 -> ¾ \n",
      "191 -> ¿ 192 -> À 193 -> Á 194 -> Â 195 -> Ã 196 -> Ä 197 -> Å 198 -> Æ 199 -> Ç 200 -> È \n",
      "201 -> É 202 -> Ê 203 -> Ë 204 -> Ì 205 -> Í 206 -> Î 207 -> Ï 208 -> Ð 209 -> Ñ 210 -> Ò \n",
      "211 -> Ó 212 -> Ô 213 -> Õ 214 -> Ö 215 -> × 216 -> Ø 217 -> Ù 218 -> Ú 219 -> Û 220 -> Ü \n",
      "221 -> Ý 222 -> Þ 223 -> ß 224 -> à 225 -> á 226 -> â 227 -> ã 228 -> ä 229 -> å 230 -> æ \n",
      "231 -> ç 232 -> è 233 -> é 234 -> ê 235 -> ë 236 -> ì 237 -> í 238 -> î 239 -> ï 240 -> ð \n",
      "241 -> ñ 242 -> ò 243 -> ó 244 -> ô 245 -> õ 246 -> ö 247 -> ÷ 248 -> ø 249 -> ù 250 -> ú \n",
      "251 -> û 252 -> ü 253 -> ý 254 -> þ 255 -> ÿ "
     ]
    }
   ],
   "source": [
    "for i in range(256):\n",
    "    print(f\"{i} -> {chr(i)}\",end=' ')\n",
    "    if i%10==0:\n",
    "        print()"
   ]
  },
  {
   "cell_type": "code",
   "execution_count": 34,
   "metadata": {},
   "outputs": [
    {
     "name": "stdout",
     "output_type": "stream",
     "text": [
      "7\n"
     ]
    }
   ],
   "source": [
    "print(len(\"AMAZING\"))"
   ]
  },
  {
   "cell_type": "code",
   "execution_count": 35,
   "metadata": {},
   "outputs": [
    {
     "data": {
      "text/plain": [
       "'AVATSAVIRS JUBMA'"
      ]
     },
     "execution_count": 35,
     "metadata": {},
     "output_type": "execute_result"
    }
   ],
   "source": [
    "name[::-1]"
   ]
  },
  {
   "cell_type": "code",
   "execution_count": 36,
   "metadata": {},
   "outputs": [
    {
     "data": {
      "text/plain": [
       "'AASVR UM'"
      ]
     },
     "execution_count": 36,
     "metadata": {},
     "output_type": "execute_result"
    }
   ],
   "source": [
    "name[::-2] "
   ]
  },
  {
   "cell_type": "code",
   "execution_count": 37,
   "metadata": {},
   "outputs": [
    {
     "data": {
      "text/plain": [
       "'MU RVSAA'"
      ]
     },
     "execution_count": 37,
     "metadata": {},
     "output_type": "execute_result"
    }
   ],
   "source": [
    "name[1::2]"
   ]
  },
  {
   "cell_type": "code",
   "execution_count": 4,
   "metadata": {},
   "outputs": [
    {
     "data": {
      "text/plain": [
       "'buj Srivasta'"
      ]
     },
     "execution_count": 4,
     "metadata": {},
     "output_type": "execute_result"
    }
   ],
   "source": [
    "name='Ambuj Srivastava'\n",
    "name[2:-2]"
   ]
  },
  {
   "cell_type": "code",
   "execution_count": 6,
   "metadata": {},
   "outputs": [
    {
     "data": {
      "text/plain": [
       "'wikipedia'"
      ]
     },
     "execution_count": 6,
     "metadata": {},
     "output_type": "execute_result"
    }
   ],
   "source": [
    "w1='wikinews'\n",
    "w2='encyclopedia'\n",
    "w3=w1[:4]+w2[-5:]\n",
    "w3"
   ]
  },
  {
   "cell_type": "markdown",
   "metadata": {},
   "source": [
    "### String Functions\n",
    "- validation\n",
    "    - isalpha\n",
    "    - isnum\n",
    "    - isnumeric \n",
    "- utility"
   ]
  },
  {
   "cell_type": "code",
   "execution_count": 20,
   "metadata": {},
   "outputs": [
    {
     "name": "stdout",
     "output_type": "stream",
     "text": [
      "                                                                   \n"
     ]
    }
   ],
   "source": [
    "quote='Life before death, Hope before despair, Journey beforew destination'\n",
    "a=' '\n",
    "for char in quote:\n",
    "    quote=quote.replace(char,' ')\n",
    "print(quote)"
   ]
  },
  {
   "cell_type": "code",
   "execution_count": 13,
   "metadata": {},
   "outputs": [
    {
     "name": "stdout",
     "output_type": "stream",
     "text": [
      "this_____________eel{}\n"
     ]
    }
   ],
   "source": [
    "junk_str=\"this!@##@#$%^&*()eel{}\"\n",
    "punc='~!@#$%^&*();'\n",
    "for char in punc:\n",
    "    \n",
    "    junk_str=junk_str.replace(char,'_')\n",
    "print(junk_str)"
   ]
  },
  {
   "cell_type": "code",
   "execution_count": 24,
   "metadata": {},
   "outputs": [
    {
     "name": "stdout",
     "output_type": "stream",
     "text": [
      "Orignal >  Life before death, Hope before despair, Journey beforew destination\n",
      "No Vowel >  Lf bfr dth, Hp bfr dspr, Jrny bfrw dstntn\n"
     ]
    }
   ],
   "source": [
    "quote='Life before death, Hope before despair, Journey beforew destination'\n",
    "q = quote\n",
    "for vowel in 'aeiouAEIOU':\n",
    "    q=q.replace(vowel,'')\n",
    "print('Orignal > ',quote)\n",
    "print('No Vowel > ',q)\n"
   ]
  },
  {
   "cell_type": "code",
   "execution_count": 25,
   "metadata": {},
   "outputs": [
    {
     "name": "stdout",
     "output_type": "stream",
     "text": [
      "Orignal >  Life @#$$$ before death, Hope before despair, Journey beforew destination\n",
      "No Vowel >  Life  before death, Hope before despair, Journey beforew destination\n"
     ]
    }
   ],
   "source": [
    "str2='Life @#$$$ before death, Hope before despair, Journey beforew destination'\n",
    "q = str2\n",
    "for schr in '!@#$%^&*()':\n",
    "    q=q.replace(schr,'')\n",
    "print('Orignal > ',str2)\n",
    "print('No Vowel > ',q)\n"
   ]
  },
  {
   "cell_type": "code",
   "execution_count": 27,
   "metadata": {},
   "outputs": [
    {
     "data": {
      "text/plain": [
       "12"
      ]
     },
     "execution_count": 27,
     "metadata": {},
     "output_type": "execute_result"
    }
   ],
   "source": [
    "quote.count('e')"
   ]
  },
  {
   "cell_type": "code",
   "execution_count": 30,
   "metadata": {},
   "outputs": [
    {
     "name": "stdout",
     "output_type": "stream",
     "text": [
      "a -> 3\n",
      "b -> 3\n",
      "d -> 3\n",
      "e -> 12\n",
      "f -> 4\n",
      "h -> 2\n",
      "i -> 4\n",
      "j -> 1\n",
      "l -> 1\n",
      "n -> 3\n",
      "o -> 6\n",
      "p -> 2\n",
      "r -> 5\n",
      "s -> 2\n",
      "t -> 3\n",
      "u -> 1\n",
      "w -> 1\n",
      "y -> 1\n"
     ]
    }
   ],
   "source": [
    "from string import ascii_lowercase\n",
    "for letter in ascii_lowercase:\n",
    "    occurs=quote.lower().count(letter)\n",
    "    if occurs:\n",
    "        print(f\"{letter} -> {occurs}\")"
   ]
  },
  {
   "cell_type": "code",
   "execution_count": 37,
   "metadata": {},
   "outputs": [],
   "source": [
    "quote='Life before death, Hope before despair, Journey beforew destination'\n",
    "from string import ascii_lowercase\n",
    "from string import ascii_uppercase\n",
    "for letter in ascii_lowercase:\n",
    "    count1=quote.lower().count(letter)\n",
    "for letter in ascii_lowercase:\n",
    "    count2=quote.upper().count(letter)\n",
    "c3=count1+count2\n"
   ]
  },
  {
   "cell_type": "code",
   "execution_count": 39,
   "metadata": {},
   "outputs": [
    {
     "name": "stdout",
     "output_type": "stream",
     "text": [
      "We have 9 words\n"
     ]
    }
   ],
   "source": [
    "words=quote.split()\n",
    "print(\"We have\",len(words),\"words\")"
   ]
  },
  {
   "cell_type": "code",
   "execution_count": 40,
   "metadata": {},
   "outputs": [
    {
     "data": {
      "text/plain": [
       "['Life before death', ' Hope before despair', ' Journey beforew destination']"
      ]
     },
     "execution_count": 40,
     "metadata": {},
     "output_type": "execute_result"
    }
   ],
   "source": [
    "quote='Life before death, Hope before despair, Journey beforew destination'\n",
    "quote.split(\",\")"
   ]
  },
  {
   "cell_type": "code",
   "execution_count": 8,
   "metadata": {},
   "outputs": [
    {
     "data": {
      "text/plain": [
       "'LIFE BEFORE DEATH, HOPE BEFORE DESPAIR, JOURNEY BEFORE DESTINATION'"
      ]
     },
     "execution_count": 8,
     "metadata": {},
     "output_type": "execute_result"
    }
   ],
   "source": [
    "quote='Life before death, Hope before despair, Journey before destination'\n",
    "quote.upper()"
   ]
  },
  {
   "cell_type": "code",
   "execution_count": 3,
   "metadata": {},
   "outputs": [],
   "source": [
    "q=quote.upper()"
   ]
  },
  {
   "cell_type": "code",
   "execution_count": 4,
   "metadata": {},
   "outputs": [
    {
     "data": {
      "text/plain": [
       "'LIFE BEFORE DEATH, HOPE BEFORE DESPAIR, JOURNEY BEFOREW DESTINATION'"
      ]
     },
     "execution_count": 4,
     "metadata": {},
     "output_type": "execute_result"
    }
   ],
   "source": [
    "q"
   ]
  },
  {
   "cell_type": "code",
   "execution_count": 5,
   "metadata": {},
   "outputs": [
    {
     "data": {
      "text/plain": [
       "'life before death, hope before despair, journey beforew destination'"
      ]
     },
     "execution_count": 5,
     "metadata": {},
     "output_type": "execute_result"
    }
   ],
   "source": [
    "quote.lower()"
   ]
  },
  {
   "cell_type": "code",
   "execution_count": 6,
   "metadata": {},
   "outputs": [
    {
     "data": {
      "text/plain": [
       "'Life Before Death, Hope Before Despair, Journey Beforew Destination'"
      ]
     },
     "execution_count": 6,
     "metadata": {},
     "output_type": "execute_result"
    }
   ],
   "source": [
    "quote.title()"
   ]
  },
  {
   "cell_type": "code",
   "execution_count": 9,
   "metadata": {},
   "outputs": [
    {
     "data": {
      "text/plain": [
       "'Life Before Death, Hope Before Despair, Journey Before Destination'"
      ]
     },
     "execution_count": 9,
     "metadata": {},
     "output_type": "execute_result"
    }
   ],
   "source": [
    "quote.title()"
   ]
  },
  {
   "cell_type": "code",
   "execution_count": 11,
   "metadata": {},
   "outputs": [
    {
     "data": {
      "text/plain": [
       "'lIFE BEFORE DEATH, hOPE BEFORE DESPAIR, jOURNEY BEFORE DESTINATION'"
      ]
     },
     "execution_count": 11,
     "metadata": {},
     "output_type": "execute_result"
    }
   ],
   "source": [
    "quote.swapcase()"
   ]
  },
  {
   "cell_type": "code",
   "execution_count": 23,
   "metadata": {},
   "outputs": [
    {
     "name": "stdout",
     "output_type": "stream",
     "text": [
      "Data weird..!\n"
     ]
    }
   ],
   "source": [
    "data=input(\"Enter Something > \")\n",
    "if data.isnumeric():\n",
    "    num=int(data)\n",
    "    print(\"Data converted to num\",+ num)\n",
    "elif data.isalnum():\n",
    "    temp=''\n",
    "    for char in data:\n",
    "        if char.isnumeric():\n",
    "            temp+=char\n",
    "    if temp:\n",
    "        num=int(temp) \n",
    "        print(\"Data converted to num\",+ num)\n",
    "    else:\n",
    "        print(\"Our data doesn't contain num\")    \n",
    "else:\n",
    "    print(\"Data weird..!\")    \n"
   ]
  },
  {
   "cell_type": "code",
   "execution_count": 1,
   "metadata": {},
   "outputs": [
    {
     "name": "stdout",
     "output_type": "stream",
     "text": [
      "Here is a bouring calculator ->\n",
      "1-Add\n",
      "2-Sub\n",
      "3-Mul\n",
      "SUB is  2\n",
      "Invalid choice\n"
     ]
    }
   ],
   "source": [
    "print('Here is a bouring calculator ->')\n",
    "print('1-Add')\n",
    "print('2-Sub')\n",
    "print('3-Mul')\n",
    "ch=input('Enter your choice:')\n",
    "if ch=='1':\n",
    "    num1=int(input(\"Enter NUM 1 >\"))\n",
    "    num2=int(input(\"Enter NUM 2 >\"))\n",
    "    print(\"Sum is >\",num1+num2)\n",
    "if ch=='2':\n",
    "    num1=int(input(\"Enter NUM 1 >\"))\n",
    "    num2=int(input(\"Enter NUM 2 >\"))\n",
    "    print(\"SUB is >\",num1-num2)\n",
    "if ch=='3':\n",
    "    num1=int(input(\"Enter NUM 1 >\"))\n",
    "    num2=int(input(\"Enter NUM 2 >\"))\n",
    "    print(\"MUL is >\",num1*num2)\n",
    "else:\n",
    "    print(\"Invalid choice\")"
   ]
  },
  {
   "cell_type": "markdown",
   "metadata": {},
   "source": [
    "## Strings are immutable"
   ]
  },
  {
   "cell_type": "code",
   "execution_count": null,
   "metadata": {},
   "outputs": [],
   "source": []
  }
 ],
 "metadata": {
  "interpreter": {
   "hash": "14be6224c2981fa6484923dc5e53a5bfbd3f9d5b4557d53514eb49a573700d58"
  },
  "kernelspec": {
   "display_name": "Python 3.9.5 ('base')",
   "language": "python",
   "name": "python3"
  },
  "language_info": {
   "codemirror_mode": {
    "name": "ipython",
    "version": 3
   },
   "file_extension": ".py",
   "mimetype": "text/x-python",
   "name": "python",
   "nbconvert_exporter": "python",
   "pygments_lexer": "ipython3",
   "version": "3.9.5"
  },
  "orig_nbformat": 4
 },
 "nbformat": 4,
 "nbformat_minor": 2
}
