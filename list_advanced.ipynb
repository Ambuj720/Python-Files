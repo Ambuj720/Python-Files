{
 "cells": [
  {
   "cell_type": "markdown",
   "metadata": {},
   "source": [
    "### What to learn\n",
    "\n",
    "- #### comprehension\n",
    "- #### lambda, map and filter\n",
    "\n",
    "-if you are doing a program where you need to get a list (sequence) of data from an existing data by performing some operations on existing data, then you can use the concept of comprehension or map/filters to make code smaller and faster"
   ]
  },
  {
   "cell_type": "code",
   "execution_count": 8,
   "metadata": {},
   "outputs": [
    {
     "name": "stdout",
     "output_type": "stream",
     "text": [
      "[0, 0, 0, 0, 0, 0, 0]\n"
     ]
    }
   ],
   "source": [
    "x=[1,2,3,4,5,6,7]\n",
    "x5=[]\n",
    "for i in x:\n",
    "    o=i+5\n",
    "    x5.append(0)\n",
    "print(x5)"
   ]
  },
  {
   "cell_type": "markdown",
   "metadata": {},
   "source": [
    "### Comprehension syntax\n",
    "\n",
    "- simple\n",
    "\n",
    "newlist=[operation loop]\n",
    "\n",
    "- condition based\n",
    "\n",
    "newlist = [operation loop condition]"
   ]
  },
  {
   "cell_type": "code",
   "execution_count": 2,
   "metadata": {},
   "outputs": [
    {
     "name": "stdout",
     "output_type": "stream",
     "text": [
      "[6, 7, 8, 9, 10, 11, 12]\n"
     ]
    }
   ],
   "source": [
    "x5=[i+5 for i in x]\n",
    "print(x5)"
   ]
  },
  {
   "cell_type": "code",
   "execution_count": 3,
   "metadata": {},
   "outputs": [
    {
     "name": "stdout",
     "output_type": "stream",
     "text": [
      "[1, 4, 9, 16, 25, 36, 49]\n"
     ]
    }
   ],
   "source": [
    "xsqr=[i**2 for i in x]\n",
    "print(xsqr)"
   ]
  },
  {
   "cell_type": "code",
   "execution_count": 4,
   "metadata": {},
   "outputs": [
    {
     "data": {
      "text/plain": [
       "[4, 16, 36, 64, 100]"
      ]
     },
     "execution_count": 4,
     "metadata": {},
     "output_type": "execute_result"
    }
   ],
   "source": [
    "x=[1,2,3,4,5,6,7,8,9,10]\n",
    "xesqrt=[]\n",
    "for i in x:\n",
    "    if i % 2 == 0:\n",
    "        xesqrt.append(i**2)\n",
    "xesqrt"
   ]
  },
  {
   "cell_type": "code",
   "execution_count": 5,
   "metadata": {},
   "outputs": [
    {
     "data": {
      "text/plain": [
       "[8, 64, 216, 512, 1000]"
      ]
     },
     "execution_count": 5,
     "metadata": {},
     "output_type": "execute_result"
    }
   ],
   "source": [
    "xecue=[i**3 for i in x if i%2==0]\n",
    "xecue"
   ]
  },
  {
   "cell_type": "code",
   "execution_count": 9,
   "metadata": {},
   "outputs": [
    {
     "data": {
      "text/plain": [
       "[-9, -7, -5, -3]"
      ]
     },
     "execution_count": 9,
     "metadata": {},
     "output_type": "execute_result"
    }
   ],
   "source": [
    "x = [i-10 for i in x if i%2!=0]\n",
    "x"
   ]
  },
  {
   "cell_type": "code",
   "execution_count": 17,
   "metadata": {},
   "outputs": [
    {
     "name": "stdout",
     "output_type": "stream",
     "text": [
      "['Fugerson', 'Guardiola', 'Mulller']\n"
     ]
    }
   ],
   "source": [
    "names=['Alex Fugerson','Pep Guardiola','Max Mulller']\n",
    "surnames=[]\n",
    "for n in names:\n",
    "    sn=n.split()[-1]\n",
    "    surnames.append(sn)\n",
    "print(surnames)"
   ]
  },
  {
   "cell_type": "code",
   "execution_count": 21,
   "metadata": {},
   "outputs": [
    {
     "data": {
      "text/plain": [
       "['Fugerson', 'Guardiola', 'Mulller']"
      ]
     },
     "execution_count": 21,
     "metadata": {},
     "output_type": "execute_result"
    }
   ],
   "source": [
    "surnamenames=[n.split()[-1] for n in names]\n",
    "surnamenames"
   ]
  },
  {
   "cell_type": "code",
   "execution_count": 22,
   "metadata": {},
   "outputs": [
    {
     "ename": "AttributeError",
     "evalue": "'list' object has no attribute 'split'",
     "output_type": "error",
     "traceback": [
      "\u001b[1;31m---------------------------------------------------------------------------\u001b[0m",
      "\u001b[1;31mAttributeError\u001b[0m                            Traceback (most recent call last)",
      "\u001b[1;32md:\\Python Files\\list_advanced.ipynb Cell 11'\u001b[0m in \u001b[0;36m<module>\u001b[1;34m\u001b[0m\n\u001b[0;32m      <a href='vscode-notebook-cell:/d%3A/Python%20Files/list_advanced.ipynb#ch0000010?line=0'>1</a>\u001b[0m emps\u001b[39m=\u001b[39m[\u001b[39m'\u001b[39m\u001b[39mAmbuj\u001b[39m\u001b[39m'\u001b[39m,\u001b[39m'\u001b[39m\u001b[39mAshish\u001b[39m\u001b[39m'\u001b[39m,\u001b[39m'\u001b[39m\u001b[39mAlex\u001b[39m\u001b[39m'\u001b[39m,\u001b[39m'\u001b[39m\u001b[39mCristiano\u001b[39m\u001b[39m'\u001b[39m,\u001b[39m'\u001b[39m\u001b[39mDaniel\u001b[39m\u001b[39m'\u001b[39m,\u001b[39m'\u001b[39m\u001b[39mPeter\u001b[39m\u001b[39m'\u001b[39m]\n\u001b[1;32m----> <a href='vscode-notebook-cell:/d%3A/Python%20Files/list_advanced.ipynb#ch0000010?line=1'>2</a>\u001b[0m emps1\u001b[39m=\u001b[39m[emps\u001b[39m.\u001b[39msplit()[a] \u001b[39mfor\u001b[39;00m n \u001b[39min\u001b[39;00m emps]\n\u001b[0;32m      <a href='vscode-notebook-cell:/d%3A/Python%20Files/list_advanced.ipynb#ch0000010?line=2'>3</a>\u001b[0m emps\n",
      "\u001b[1;32md:\\Python Files\\list_advanced.ipynb Cell 11'\u001b[0m in \u001b[0;36m<listcomp>\u001b[1;34m(.0)\u001b[0m\n\u001b[0;32m      <a href='vscode-notebook-cell:/d%3A/Python%20Files/list_advanced.ipynb#ch0000010?line=0'>1</a>\u001b[0m emps\u001b[39m=\u001b[39m[\u001b[39m'\u001b[39m\u001b[39mAmbuj\u001b[39m\u001b[39m'\u001b[39m,\u001b[39m'\u001b[39m\u001b[39mAshish\u001b[39m\u001b[39m'\u001b[39m,\u001b[39m'\u001b[39m\u001b[39mAlex\u001b[39m\u001b[39m'\u001b[39m,\u001b[39m'\u001b[39m\u001b[39mCristiano\u001b[39m\u001b[39m'\u001b[39m,\u001b[39m'\u001b[39m\u001b[39mDaniel\u001b[39m\u001b[39m'\u001b[39m,\u001b[39m'\u001b[39m\u001b[39mPeter\u001b[39m\u001b[39m'\u001b[39m]\n\u001b[1;32m----> <a href='vscode-notebook-cell:/d%3A/Python%20Files/list_advanced.ipynb#ch0000010?line=1'>2</a>\u001b[0m emps1\u001b[39m=\u001b[39m[emps\u001b[39m.\u001b[39;49msplit()[a] \u001b[39mfor\u001b[39;00m n \u001b[39min\u001b[39;00m emps]\n\u001b[0;32m      <a href='vscode-notebook-cell:/d%3A/Python%20Files/list_advanced.ipynb#ch0000010?line=2'>3</a>\u001b[0m emps\n",
      "\u001b[1;31mAttributeError\u001b[0m: 'list' object has no attribute 'split'"
     ]
    }
   ],
   "source": [
    "emps=['Ambuj','Ashish','Alex','Cristiano','Daniel','Peter']\n",
    "aemp=[]\n",
    "    for i in emps:\n",
    "        "
   ]
  },
  {
   "cell_type": "code",
   "execution_count": null,
   "metadata": {},
   "outputs": [],
   "source": [
    "emps=['Ambuj','Ashish','Alex','Cristiano','Daniel','Peter']\n",
    "emps1=[emps.split()[a] for n in emps]\n",
    "emps\n"
   ]
  }
 ],
 "metadata": {
  "interpreter": {
   "hash": "14be6224c2981fa6484923dc5e53a5bfbd3f9d5b4557d53514eb49a573700d58"
  },
  "kernelspec": {
   "display_name": "Python 3.9.5 ('base')",
   "language": "python",
   "name": "python3"
  },
  "language_info": {
   "codemirror_mode": {
    "name": "ipython",
    "version": 3
   },
   "file_extension": ".py",
   "mimetype": "text/x-python",
   "name": "python",
   "nbconvert_exporter": "python",
   "pygments_lexer": "ipython3",
   "version": "3.9.5"
  },
  "orig_nbformat": 4
 },
 "nbformat": 4,
 "nbformat_minor": 2
}
