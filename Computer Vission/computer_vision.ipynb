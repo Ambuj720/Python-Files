{
 "cells": [
  {
   "cell_type": "code",
   "execution_count": 2,
   "metadata": {},
   "outputs": [],
   "source": [
    "import cv2"
   ]
  },
  {
   "cell_type": "code",
   "execution_count": 3,
   "metadata": {},
   "outputs": [],
   "source": [
    "im1=cv2.imread('Earth1.jpg')"
   ]
  },
  {
   "cell_type": "code",
   "execution_count": 8,
   "metadata": {},
   "outputs": [
    {
     "data": {
      "text/plain": [
       "array([[[17,  8,  4],\n",
       "        [17,  8,  4],\n",
       "        [16,  7,  3],\n",
       "        ...,\n",
       "        [27, 21, 10],\n",
       "        [27, 21, 10],\n",
       "        [27, 21, 10]],\n",
       "\n",
       "       [[17,  8,  4],\n",
       "        [17,  8,  4],\n",
       "        [16,  7,  3],\n",
       "        ...,\n",
       "        [27, 21, 10],\n",
       "        [27, 21, 10],\n",
       "        [27, 21, 10]],\n",
       "\n",
       "       [[17,  8,  4],\n",
       "        [16,  7,  3],\n",
       "        [16,  7,  3],\n",
       "        ...,\n",
       "        [28, 22, 11],\n",
       "        [28, 22, 11],\n",
       "        [28, 22, 11]],\n",
       "\n",
       "       ...,\n",
       "\n",
       "       [[44, 34, 17],\n",
       "        [44, 34, 17],\n",
       "        [43, 33, 16],\n",
       "        ...,\n",
       "        [23, 17, 10],\n",
       "        [23, 17, 10],\n",
       "        [23, 17, 10]],\n",
       "\n",
       "       [[44, 34, 17],\n",
       "        [44, 34, 17],\n",
       "        [44, 34, 17],\n",
       "        ...,\n",
       "        [23, 17, 10],\n",
       "        [23, 17, 10],\n",
       "        [23, 17, 10]],\n",
       "\n",
       "       [[43, 33, 16],\n",
       "        [43, 33, 16],\n",
       "        [43, 33, 16],\n",
       "        ...,\n",
       "        [22, 19, 11],\n",
       "        [22, 19, 11],\n",
       "        [22, 19, 11]]], dtype=uint8)"
      ]
     },
     "execution_count": 8,
     "metadata": {},
     "output_type": "execute_result"
    }
   ],
   "source": [
    "im1"
   ]
  },
  {
   "cell_type": "code",
   "execution_count": 4,
   "metadata": {},
   "outputs": [],
   "source": [
    "cv2.imshow('image window',im1)\n",
    "cv2.waitKey(0)\n",
    "cv2.destroyAllWindows()"
   ]
  },
  {
   "cell_type": "code",
   "execution_count": 10,
   "metadata": {},
   "outputs": [],
   "source": [
    "im2=cv2.imread('Earth1.jpg')"
   ]
  },
  {
   "cell_type": "code",
   "execution_count": 11,
   "metadata": {},
   "outputs": [
    {
     "data": {
      "text/plain": [
       "(529, 940, 3)"
      ]
     },
     "execution_count": 11,
     "metadata": {},
     "output_type": "execute_result"
    }
   ],
   "source": [
    "im2.shape"
   ]
  },
  {
   "cell_type": "code",
   "execution_count": null,
   "metadata": {},
   "outputs": [],
   "source": [
    "gray_im2=cv2.cvtColor(im2,cv2.COLOR_BGR2GRAY)\n",
    "cv2.imshow('gray',gray_im2)\n",
    "cv2.waitKey(0)\n",
    "cv2.destroyAllWindows()\n"
   ]
  },
  {
   "cell_type": "code",
   "execution_count": 3,
   "metadata": {},
   "outputs": [
    {
     "ename": "NameError",
     "evalue": "name 'im2' is not defined",
     "output_type": "error",
     "traceback": [
      "\u001b[1;31m---------------------------------------------------------------------------\u001b[0m",
      "\u001b[1;31mNameError\u001b[0m                                 Traceback (most recent call last)",
      "\u001b[1;32md:\\Python Files\\Computer Vission\\computer_vision.ipynb Cell 8'\u001b[0m in \u001b[0;36m<cell line: 1>\u001b[1;34m()\u001b[0m\n\u001b[1;32m----> <a href='vscode-notebook-cell:/d%3A/Python%20Files/Computer%20Vission/computer_vision.ipynb#ch0000007?line=0'>1</a>\u001b[0m halfed_im2\u001b[39m=\u001b[39mcv2\u001b[39m.\u001b[39mresize(im2,(\u001b[39m0\u001b[39m,\u001b[39m0\u001b[39m),fx\u001b[39m=\u001b[39m\u001b[39m0.15\u001b[39m,fy\u001b[39m=\u001b[39m\u001b[39m0.15\u001b[39m)\n\u001b[0;32m      <a href='vscode-notebook-cell:/d%3A/Python%20Files/Computer%20Vission/computer_vision.ipynb#ch0000007?line=1'>2</a>\u001b[0m cv2\u001b[39m.\u001b[39mimshow(\u001b[39m'\u001b[39m\u001b[39mHalfed\u001b[39m\u001b[39m'\u001b[39m,halfed_im2)\n\u001b[0;32m      <a href='vscode-notebook-cell:/d%3A/Python%20Files/Computer%20Vission/computer_vision.ipynb#ch0000007?line=2'>3</a>\u001b[0m cv2\u001b[39m.\u001b[39mwaitKey(\u001b[39m0\u001b[39m)\n",
      "\u001b[1;31mNameError\u001b[0m: name 'im2' is not defined"
     ]
    }
   ],
   "source": [
    "halfed_im2=cv2.resize(im2,(0,0),fx=0.15,fy=0.15)\n",
    "cv2.imshow('Halfed',halfed_im2)\n",
    "cv2.waitKey(0)\n",
    "cv2.destroyAllWindows()"
   ]
  },
  {
   "cell_type": "code",
   "execution_count": 16,
   "metadata": {},
   "outputs": [
    {
     "data": {
      "text/plain": [
       "(200, 200, 3)"
      ]
     },
     "execution_count": 16,
     "metadata": {},
     "output_type": "execute_result"
    }
   ],
   "source": [
    "cv2.resize(im2,(200,200)).shape"
   ]
  },
  {
   "cell_type": "code",
   "execution_count": 4,
   "metadata": {},
   "outputs": [],
   "source": [
    "cam=cv2.VideoCapture(0)\n",
    "while True:\n",
    "    status,frame=cam.read()\n",
    "    cv2.imshow('frame',frame)\n",
    "    if cv2.waitKey(1)==27:\n",
    "        break\n",
    "cam.release()\n",
    "cv2.destroyAllWindows()"
   ]
  },
  {
   "cell_type": "code",
   "execution_count": null,
   "metadata": {},
   "outputs": [],
   "source": []
  },
  {
   "cell_type": "code",
   "execution_count": null,
   "metadata": {},
   "outputs": [],
   "source": []
  }
 ],
 "metadata": {
  "interpreter": {
   "hash": "14be6224c2981fa6484923dc5e53a5bfbd3f9d5b4557d53514eb49a573700d58"
  },
  "kernelspec": {
   "display_name": "Python 3.9.7 ('base')",
   "language": "python",
   "name": "python3"
  },
  "language_info": {
   "codemirror_mode": {
    "name": "ipython",
    "version": 3
   },
   "file_extension": ".py",
   "mimetype": "text/x-python",
   "name": "python",
   "nbconvert_exporter": "python",
   "pygments_lexer": "ipython3",
   "version": "3.9.7"
  },
  "orig_nbformat": 4
 },
 "nbformat": 4,
 "nbformat_minor": 2
}
