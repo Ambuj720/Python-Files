{
 "cells": [
  {
   "cell_type": "code",
   "execution_count": 4,
   "metadata": {},
   "outputs": [],
   "source": [
    "x=10\n",
    "y=30\n",
    "z='Apples'"
   ]
  },
  {
   "cell_type": "code",
   "execution_count": 5,
   "metadata": {},
   "outputs": [
    {
     "data": {
      "text/plain": [
       "'Apples'"
      ]
     },
     "execution_count": 5,
     "metadata": {},
     "output_type": "execute_result"
    }
   ],
   "source": [
    "x\n",
    "y\n",
    "z"
   ]
  },
  {
   "cell_type": "code",
   "execution_count": 6,
   "metadata": {},
   "outputs": [
    {
     "name": "stdout",
     "output_type": "stream",
     "text": [
      "Today it Rained\n"
     ]
    }
   ],
   "source": [
    "print(\"Today it Rained\") #Formatted Output"
   ]
  },
  {
   "cell_type": "code",
   "execution_count": 8,
   "metadata": {},
   "outputs": [
    {
     "name": "stdout",
     "output_type": "stream",
     "text": [
      "10\n",
      "30\n",
      "Apples\n"
     ]
    }
   ],
   "source": [
    "print(x)\n",
    "print(y)\n",
    "print(z)"
   ]
  },
  {
   "cell_type": "code",
   "execution_count": 11,
   "metadata": {},
   "outputs": [
    {
     "name": "stdout",
     "output_type": "stream",
     "text": [
      "10 30 Apples All 😂😂\n"
     ]
    }
   ],
   "source": [
    "print(x,y,z,\"All\",\"😂😂\")"
   ]
  },
  {
   "cell_type": "code",
   "execution_count": 13,
   "metadata": {},
   "outputs": [
    {
     "name": "stdout",
     "output_type": "stream",
     "text": [
      "Apples , Banana , Cherry , Dragonfruit\n"
     ]
    }
   ],
   "source": [
    "print(\"Apples\",\"Banana\",\"Cherry\",\"Dragonfruit\",sep=' , ')"
   ]
  },
  {
   "cell_type": "markdown",
   "metadata": {},
   "source": [
    "### How to Display text mixed with variables\n",
    "- comma seperated 👍\n",
    "- format specifier\n",
    "- using + as concatenation\n",
    "- using format() function\n",
    "-using f-string (version 3.6) 👍"
   ]
  },
  {
   "cell_type": "code",
   "execution_count": 15,
   "metadata": {},
   "outputs": [],
   "source": [
    "lang=\"Python\"\n",
    "lc=\"Easy\"                    \n",
    "version=\"3.10\"\n",
    "creator=\"Guido Van Rossum\""
   ]
  },
  {
   "cell_type": "code",
   "execution_count": 20,
   "metadata": {},
   "outputs": [
    {
     "name": "stdout",
     "output_type": "stream",
     "text": [
      "Python is an Easy language created by Guido Van Rossum the current version is 3.10\n"
     ]
    }
   ],
   "source": [
    "print(lang , \"is an\",lc,\"language created by\", creator,\"the current version is\",version)"
   ]
  },
  {
   "cell_type": "code",
   "execution_count": 23,
   "metadata": {},
   "outputs": [
    {
     "name": "stdout",
     "output_type": "stream",
     "text": [
      "Python is an Easy language created by Guido Van Rossum, the currenty version is 3.10\n"
     ]
    }
   ],
   "source": [
    "print('%s is an %s language created by %s, the currenty version is %s'%(lang,lc,creator,version))"
   ]
  },
  {
   "cell_type": "code",
   "execution_count": 25,
   "metadata": {},
   "outputs": [
    {
     "name": "stdout",
     "output_type": "stream",
     "text": [
      "Python is an Easy language created by Guido Van Rossum the version is 3.10\n"
     ]
    }
   ],
   "source": [
    "print(lang+\" is an \"+lc+\" language created by \"+creator+\" the version is \"+version)"
   ]
  },
  {
   "cell_type": "code",
   "execution_count": 30,
   "metadata": {},
   "outputs": [
    {
     "name": "stdout",
     "output_type": "stream",
     "text": [
      "Python is an Easy language created by Guido Van Rossum,the current version is 3.10\n"
     ]
    }
   ],
   "source": [
    "print('{} is an {} language created by {},the current version is {}'.format(lang,lc,creator,version))"
   ]
  },
  {
   "cell_type": "markdown",
   "metadata": {},
   "source": [
    "##### The better way to create and print method in python is f-string introduced in  version 3.6"
   ]
  },
  {
   "cell_type": "code",
   "execution_count": 35,
   "metadata": {},
   "outputs": [
    {
     "name": "stdout",
     "output_type": "stream",
     "text": [
      "Python is a Easy language breated by Guido Van Rossum, the current version is 3.10\n"
     ]
    }
   ],
   "source": [
    "print (f'{lang} is a {lc} language breated by {creator}, the current version is {version}')"
   ]
  },
  {
   "cell_type": "markdown",
   "metadata": {},
   "source": [
    "##### Input"
   ]
  },
  {
   "cell_type": "code",
   "execution_count": 36,
   "metadata": {},
   "outputs": [],
   "source": [
    "a=input('Enter a>')"
   ]
  },
  {
   "cell_type": "code",
   "execution_count": 39,
   "metadata": {},
   "outputs": [
    {
     "name": "stdout",
     "output_type": "stream",
     "text": [
      "Ambuj 22 were given\n",
      "<class 'str'> <class 'str'>\n"
     ]
    }
   ],
   "source": [
    "name = input(\"Enter Name > \")\n",
    "age =  input(\"Enter age > \")\n",
    "print(name,age,'were given')\n",
    "print(type(name),type(age))"
   ]
  },
  {
   "cell_type": "code",
   "execution_count": 43,
   "metadata": {},
   "outputs": [
    {
     "name": "stdout",
     "output_type": "stream",
     "text": [
      "22\n"
     ]
    }
   ],
   "source": [
    "temprature = int (input(\"Enter temprature in degree > \"))\n",
    "print (temprature + 10)"
   ]
  },
  {
   "cell_type": "code",
   "execution_count": 1,
   "metadata": {},
   "outputs": [
    {
     "data": {
      "text/plain": [
       "23"
      ]
     },
     "execution_count": 1,
     "metadata": {},
     "output_type": "execute_result"
    }
   ],
   "source": [
    "a=int (input(\"Enter a: > \"))\n",
    "b=int (input(\"Enter b: > \"))\n",
    "a+b"
   ]
  },
  {
   "cell_type": "code",
   "execution_count": null,
   "metadata": {},
   "outputs": [],
   "source": []
  }
 ],
 "metadata": {
  "interpreter": {
   "hash": "14be6224c2981fa6484923dc5e53a5bfbd3f9d5b4557d53514eb49a573700d58"
  },
  "kernelspec": {
   "display_name": "Python 3.9.5 64-bit ('base': conda)",
   "language": "python",
   "name": "python3"
  },
  "language_info": {
   "codemirror_mode": {
    "name": "ipython",
    "version": 3
   },
   "file_extension": ".py",
   "mimetype": "text/x-python",
   "name": "python",
   "nbconvert_exporter": "python",
   "pygments_lexer": "ipython3",
   "version": "3.9.5"
  },
  "orig_nbformat": 4
 },
 "nbformat": 4,
 "nbformat_minor": 2
}
