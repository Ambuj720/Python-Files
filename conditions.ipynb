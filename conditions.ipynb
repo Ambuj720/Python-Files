{
 "cells": [
  {
   "cell_type": "markdown",
   "metadata": {},
   "source": [
    "# Conditions"
   ]
  },
  {
   "cell_type": "code",
   "execution_count": 3,
   "metadata": {},
   "outputs": [
    {
     "name": "stdout",
     "output_type": "stream",
     "text": [
      "You see a apple seller\n",
      "Don't purchase Apples\n"
     ]
    }
   ],
   "source": [
    "print('You see a apple seller')\n",
    "q= input('Do you like apples ?')\n",
    "if q== 'yes':\n",
    "    print(\"Purchase 2 kg of Apples\")\n",
    "if q== 'no':\n",
    "    print(\"Don't purchase Apples\")"
   ]
  },
  {
   "cell_type": "code",
   "execution_count": 30,
   "metadata": {},
   "outputs": [
    {
     "name": "stdout",
     "output_type": "stream",
     "text": [
      "10 is greater than 5\n",
      "This is the Info we needed\n",
      "With this power comes great responsibilities\n",
      "The End\n"
     ]
    }
   ],
   "source": [
    "x=int(10)\n",
    "if x>5:\n",
    "    print( x, \"is greater than 5\")\n",
    "    print('This is the Info we needed')\n",
    "    print('With this power comes great responsibilities')\n",
    "print('The End')"
   ]
  },
  {
   "cell_type": "code",
   "execution_count": 19,
   "metadata": {},
   "outputs": [
    {
     "name": "stdout",
     "output_type": "stream",
     "text": [
      "Wear long pants\n",
      "Get some exercise\n"
     ]
    }
   ],
   "source": [
    "temp = float(input('What is the Temprature? >'))\n",
    "if temp>70:\n",
    "    print('Wear shorts')\n",
    "else:\n",
    "    print('Wear long pants')\n",
    "print('Get some exercise')"
   ]
  },
  {
   "cell_type": "code",
   "execution_count": 26,
   "metadata": {},
   "outputs": [
    {
     "name": "stdout",
     "output_type": "stream",
     "text": [
      "A\n"
     ]
    }
   ],
   "source": [
    "score=int(input(\"Enter your score >\"))\n",
    "if score >= 90:\n",
    "    letter='A'\n",
    "elif score >= 80:\n",
    "    letter='B'\n",
    "elif score >= 70:\n",
    "    letter='C'\n",
    "elif score >= 60:\n",
    "    letter='D'\n",
    "else:\n",
    "    letter = 'F'\n",
    "print(letter)"
   ]
  },
  {
   "cell_type": "markdown",
   "metadata": {},
   "source": [
    "##### One liner "
   ]
  },
  {
   "cell_type": "code",
   "execution_count": 31,
   "metadata": {},
   "outputs": [
    {
     "name": "stdout",
     "output_type": "stream",
     "text": [
      "42\n"
     ]
    }
   ],
   "source": [
    "if 42 in range(100): print('42')\n"
   ]
  },
  {
   "cell_type": "code",
   "execution_count": 32,
   "metadata": {},
   "outputs": [
    {
     "name": "stdout",
     "output_type": "stream",
     "text": [
      "Bob\n"
     ]
    }
   ],
   "source": [
    "x=\"Alice\" if \"Jon\" in \"My name is Ambuj\" else \"Bob\"\n",
    "print(x)"
   ]
  },
  {
   "cell_type": "code",
   "execution_count": 33,
   "metadata": {},
   "outputs": [
    {
     "name": "stdout",
     "output_type": "stream",
     "text": [
      "42\n"
     ]
    }
   ],
   "source": [
    "print('42') if 42 in [22,33,42] else print(\"21\")"
   ]
  },
  {
   "cell_type": "code",
   "execution_count": 34,
   "metadata": {},
   "outputs": [
    {
     "name": "stdout",
     "output_type": "stream",
     "text": [
      "brown\n"
     ]
    }
   ],
   "source": [
    "print(\"Yelow\") if \"y\" in \"orange\" else print(\"brown\")"
   ]
  },
  {
   "cell_type": "markdown",
   "metadata": {},
   "source": [
    "# HW\n",
    "\n",
    "- Even odd\n",
    "- two list same or not\n"
   ]
  },
  {
   "cell_type": "code",
   "execution_count": 5,
   "metadata": {},
   "outputs": [
    {
     "name": "stdout",
     "output_type": "stream",
     "text": [
      "7 is Odd number\n"
     ]
    }
   ],
   "source": [
    "num = int(input(\"Enter a number: \"))  \n",
    "if (num % 2) == 0:  \n",
    "   print(num,\"is Even number\")  \n",
    "else:  \n",
    "   print(num,\"is Odd number\")  "
   ]
  },
  {
   "cell_type": "code",
   "execution_count": 13,
   "metadata": {},
   "outputs": [
    {
     "name": "stdout",
     "output_type": "stream",
     "text": [
      "List is Equal\n",
      "Khatam\n"
     ]
    }
   ],
   "source": [
    "a=list(input('Enter list 1'))\n",
    "b=list(input('Enter list 2'))\n",
    "if a==b:\n",
    "    print('List is Equal')\n",
    "else:\n",
    "    print('List Unequal')\n",
    "print(\"Khatam\")"
   ]
  },
  {
   "cell_type": "code",
   "execution_count": null,
   "metadata": {},
   "outputs": [],
   "source": []
  }
 ],
 "metadata": {
  "interpreter": {
   "hash": "14be6224c2981fa6484923dc5e53a5bfbd3f9d5b4557d53514eb49a573700d58"
  },
  "kernelspec": {
   "display_name": "Python 3.9.5 64-bit ('base': conda)",
   "language": "python",
   "name": "python3"
  },
  "language_info": {
   "codemirror_mode": {
    "name": "ipython",
    "version": 3
   },
   "file_extension": ".py",
   "mimetype": "text/x-python",
   "name": "python",
   "nbconvert_exporter": "python",
   "pygments_lexer": "ipython3",
   "version": "3.9.5"
  },
  "orig_nbformat": 4
 },
 "nbformat": 4,
 "nbformat_minor": 2
}
