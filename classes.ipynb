{
 "cells": [
  {
   "cell_type": "markdown",
   "metadata": {},
   "source": [
    "ORM - Object Relational Mapper"
   ]
  },
  {
   "cell_type": "code",
   "execution_count": 10,
   "metadata": {},
   "outputs": [],
   "source": [
    "from sqlalchemy.engine import create_engine\n",
    "from sqlalchemy.ext.declarative import declarative_base\n",
    "from sqlalchemy import Column,Integer,String,Float\n",
    "Base=declarative_base()"
   ]
  },
  {
   "cell_type": "code",
   "execution_count": 11,
   "metadata": {},
   "outputs": [],
   "source": [
    "class Movee(Base):\n",
    "    __tablename__='Moviees'\n",
    "    id=Column(Integer,primary_key=True)\n",
    "    title=Column(String(50))\n",
    "    year=Column(Integer)\n",
    "    director=Column(String(25))\n",
    "    genre=Column(String(25))\n",
    "    rating=Column(Integer)\n",
    "    summary=Column(String)"
   ]
  },
  {
   "cell_type": "markdown",
   "metadata": {},
   "source": [
    "Creation of database"
   ]
  },
  {
   "cell_type": "code",
   "execution_count": 12,
   "metadata": {},
   "outputs": [
    {
     "ename": "AttributeError",
     "evalue": "'str' object has no attribute '_run_ddl_visitor'",
     "output_type": "error",
     "traceback": [
      "\u001b[1;31m---------------------------------------------------------------------------\u001b[0m",
      "\u001b[1;31mAttributeError\u001b[0m                            Traceback (most recent call last)",
      "\u001b[1;32md:\\Python Files\\classes.ipynb Cell 5'\u001b[0m in \u001b[0;36m<cell line: 2>\u001b[1;34m()\u001b[0m\n\u001b[0;32m      <a href='vscode-notebook-cell:/d%3A/Python%20Files/classes.ipynb#ch0000004?line=0'>1</a>\u001b[0m engine\u001b[39m=\u001b[39mcreate_engine\u001b[39m=\u001b[39m(\u001b[39m\"\u001b[39m\u001b[39msqllite:///Movies.sqllite\u001b[39m\u001b[39m\"\u001b[39m)\n\u001b[1;32m----> <a href='vscode-notebook-cell:/d%3A/Python%20Files/classes.ipynb#ch0000004?line=1'>2</a>\u001b[0m Base\u001b[39m.\u001b[39;49mmetadata\u001b[39m.\u001b[39;49mcreate_all(engine)\n",
      "File \u001b[1;32m~\\miniconda3\\lib\\site-packages\\sqlalchemy\\sql\\schema.py:4864\u001b[0m, in \u001b[0;36mMetaData.create_all\u001b[1;34m(self, bind, tables, checkfirst)\u001b[0m\n\u001b[0;32m   <a href='file:///c%3A/Users/Ambuj/miniconda3/lib/site-packages/sqlalchemy/sql/schema.py?line=4861'>4862</a>\u001b[0m \u001b[39mif\u001b[39;00m bind \u001b[39mis\u001b[39;00m \u001b[39mNone\u001b[39;00m:\n\u001b[0;32m   <a href='file:///c%3A/Users/Ambuj/miniconda3/lib/site-packages/sqlalchemy/sql/schema.py?line=4862'>4863</a>\u001b[0m     bind \u001b[39m=\u001b[39m _bind_or_error(\u001b[39mself\u001b[39m)\n\u001b[1;32m-> <a href='file:///c%3A/Users/Ambuj/miniconda3/lib/site-packages/sqlalchemy/sql/schema.py?line=4863'>4864</a>\u001b[0m bind\u001b[39m.\u001b[39;49m_run_ddl_visitor(\n\u001b[0;32m   <a href='file:///c%3A/Users/Ambuj/miniconda3/lib/site-packages/sqlalchemy/sql/schema.py?line=4864'>4865</a>\u001b[0m     ddl\u001b[39m.\u001b[39mSchemaGenerator, \u001b[39mself\u001b[39m, checkfirst\u001b[39m=\u001b[39mcheckfirst, tables\u001b[39m=\u001b[39mtables\n\u001b[0;32m   <a href='file:///c%3A/Users/Ambuj/miniconda3/lib/site-packages/sqlalchemy/sql/schema.py?line=4865'>4866</a>\u001b[0m )\n",
      "\u001b[1;31mAttributeError\u001b[0m: 'str' object has no attribute '_run_ddl_visitor'"
     ]
    }
   ],
   "source": [
    "engine=create_engine=(\"sqllite:///Movies.sqllite\")\n",
    "Base.metadata.create_all(engine)"
   ]
  },
  {
   "cell_type": "code",
   "execution_count": null,
   "metadata": {},
   "outputs": [],
   "source": []
  }
 ],
 "metadata": {
  "interpreter": {
   "hash": "14be6224c2981fa6484923dc5e53a5bfbd3f9d5b4557d53514eb49a573700d58"
  },
  "kernelspec": {
   "display_name": "Python 3.9.7 ('base')",
   "language": "python",
   "name": "python3"
  },
  "language_info": {
   "codemirror_mode": {
    "name": "ipython",
    "version": 3
   },
   "file_extension": ".py",
   "mimetype": "text/x-python",
   "name": "python",
   "nbconvert_exporter": "python",
   "pygments_lexer": "ipython3",
   "version": "3.9.7"
  },
  "orig_nbformat": 4
 },
 "nbformat": 4,
 "nbformat_minor": 2
}
