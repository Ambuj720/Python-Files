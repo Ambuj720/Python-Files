{
 "cells": [
  {
   "cell_type": "code",
   "execution_count": 2,
   "metadata": {},
   "outputs": [
    {
     "name": "stdout",
     "output_type": "stream",
     "text": [
      "Hi python\n"
     ]
    }
   ],
   "source": [
    "#Create a srting and print it.\n",
    "\n",
    "x = 'Hi python'\n",
    "print(x)"
   ]
  },
  {
   "cell_type": "code",
   "execution_count": 3,
   "metadata": {},
   "outputs": [
    {
     "data": {
      "text/plain": [
       "5"
      ]
     },
     "execution_count": 3,
     "metadata": {},
     "output_type": "execute_result"
    }
   ],
   "source": [
    "#Take a string input and print it's length.\n",
    "\n",
    "length=0\n",
    "x = input(\"Enter a string > \")\n",
    "length=len(x)\n",
    "length"
   ]
  },
  {
   "cell_type": "code",
   "execution_count": 4,
   "metadata": {},
   "outputs": [
    {
     "name": "stdout",
     "output_type": "stream",
     "text": [
      "everywhere\n"
     ]
    }
   ],
   "source": [
    "#Print the last word of the string Python is great using slices.\n",
    "\n",
    "x = \"python is everywhere\"\n",
    "slicel = x[10:]\n",
    "print(slicel)"
   ]
  },
  {
   "cell_type": "code",
   "execution_count": 5,
   "metadata": {},
   "outputs": [
    {
     "name": "stdout",
     "output_type": "stream",
     "text": [
      "python\n",
      "is\n",
      "everywhere\n"
     ]
    }
   ],
   "source": [
    "#Print the each word in different line of string python is everywhere.\n",
    "\n",
    "x = \"python is everywhere\"\n",
    "slice1 = x[:6]\n",
    "slice2 = x[7:9]\n",
    "slice3 = x[10:]\n",
    "print(slice1)\n",
    "print(slice2)\n",
    "print(slice3)"
   ]
  },
  {
   "cell_type": "code",
   "execution_count": 6,
   "metadata": {},
   "outputs": [
    {
     "name": "stdout",
     "output_type": "stream",
     "text": [
      "dlrow olleh\n"
     ]
    }
   ],
   "source": [
    "# Print the string Hello World! in reverse.\n",
    "\n",
    "x = \"hello world\"\n",
    "slice1 = x[::-1]\n",
    "print(slice1)"
   ]
  },
  {
   "cell_type": "code",
   "execution_count": 9,
   "metadata": {},
   "outputs": [
    {
     "name": "stdout",
     "output_type": "stream",
     "text": [
      "HOW ARE YOU?\n"
     ]
    }
   ],
   "source": [
    "# Convert the string How are you? in uppercase.\n",
    "\n",
    "x = 'How are you?'\n",
    "uppercs=x.upper()\n",
    "print(uppercs)"
   ]
  },
  {
   "cell_type": "code",
   "execution_count": 11,
   "metadata": {},
   "outputs": [
    {
     "data": {
      "text/plain": [
       "'how is it going?'"
      ]
     },
     "execution_count": 11,
     "metadata": {},
     "output_type": "execute_result"
    }
   ],
   "source": [
    "# Convert the string How Is It Going? in lowercase.\n",
    "\n",
    "x = 'How Is It Going?'\n",
    "lw = x.lower()\n",
    "lw"
   ]
  },
  {
   "cell_type": "code",
   "execution_count": 15,
   "metadata": {},
   "outputs": [
    {
     "name": "stdout",
     "output_type": "stream",
     "text": [
      "python is easy to understand\n"
     ]
    }
   ],
   "source": [
    "# Join the following list by spaces( ) and print the result.\n",
    "# words = ['Python', 'is', 'easy', 'to', 'learn']\n",
    "\n",
    "words = ['python','is','easy','to','understand']\n",
    "strnew = \" \"\n",
    "for a in words:\n",
    "    strnew = strnew + ' ' + a\n",
    "print(strnew.strip())"
   ]
  },
  {
   "cell_type": "code",
   "execution_count": 18,
   "metadata": {},
   "outputs": [
    {
     "name": "stdout",
     "output_type": "stream",
     "text": [
      " Hello and \n",
      "Welcome to Python\n",
      "It is not a\n",
      "Complex Language\n"
     ]
    }
   ],
   "source": [
    "# Print a multiline string using a single print\n",
    "\n",
    "str_1 = ''' Hello and \n",
    "Welcome to Python\n",
    "It is not a\n",
    "Complex Language'''\n",
    "print(str_1)"
   ]
  },
  {
   "cell_type": "code",
   "execution_count": 19,
   "metadata": {},
   "outputs": [
    {
     "data": {
      "text/plain": [
       "\"to move to new line'\\\\n'is used\""
      ]
     },
     "execution_count": 19,
     "metadata": {},
     "output_type": "execute_result"
    }
   ],
   "source": [
    "# Print this string to move to newline '\\n' is used. (results should look exactly like the provided string)\n",
    "\n",
    "newstr1 = \"to move to new line'\\\\n'is used\"\n",
    "newstr1"
   ]
  },
  {
   "cell_type": "code",
   "execution_count": 23,
   "metadata": {},
   "outputs": [
    {
     "name": "stdout",
     "output_type": "stream",
     "text": [
      "the value of var1 is > 10\n"
     ]
    }
   ],
   "source": [
    "# Print a variable with some text using a single print function, output should look like following.\n",
    "# the variable is 15\n",
    "\n",
    "var1 = 10\n",
    "print('the value of var1 is >',var1)"
   ]
  },
  {
   "cell_type": "code",
   "execution_count": 25,
   "metadata": {},
   "outputs": [
    {
     "name": "stdout",
     "output_type": "stream",
     "text": [
      "python is great\n"
     ]
    }
   ],
   "source": [
    "#concatenate the following strings and print the result\n",
    "#s1 = 'python '\n",
    "#s2 = 'is '\n",
    "#s3 = 'great.'\n",
    "\n",
    "s1 = \"python \"\n",
    "s2 = \"is \"\n",
    "s3 = \"great\"\n",
    "print(s1+s2+s3)\n",
    "\n"
   ]
  },
  {
   "cell_type": "code",
   "execution_count": 27,
   "metadata": {},
   "outputs": [
    {
     "name": "stdout",
     "output_type": "stream",
     "text": [
      "####################\n"
     ]
    }
   ],
   "source": [
    "# Print '#' 20 times without using a loop\n",
    "\n",
    "print(\"#\"*20)"
   ]
  },
  {
   "cell_type": "code",
   "execution_count": 29,
   "metadata": {},
   "outputs": [
    {
     "name": "stdout",
     "output_type": "stream",
     "text": [
      "1 .\n",
      "2 .\n",
      "3 .\n",
      "4 .\n",
      "5 .\n",
      "6 .\n",
      "7 .\n",
      "8 .\n",
      "9 .\n"
     ]
    }
   ],
   "source": [
    "#Print numbers from 1 to 9, each on a seperate line, followed by a dot, output should look like the following-\n",
    "#1.\n",
    "#2.\n",
    "#3.\n",
    "\n",
    "for i in range(9):\n",
    "    print(i+1,\".\")"
   ]
  },
  {
   "cell_type": "code",
   "execution_count": 31,
   "metadata": {},
   "outputs": [
    {
     "name": "stdout",
     "output_type": "stream",
     "text": [
      "Hello\n",
      "Python\n",
      "you\n",
      "are\n",
      "easy\n"
     ]
    }
   ],
   "source": [
    "# Ask user to input a sentence and print each word on a different line.\n",
    "\n",
    "sentence = input(\"Enter your word\")\n",
    "x=sentence.split()\n",
    "for i in x:\n",
    "    print(i) "
   ]
  },
  {
   "cell_type": "code",
   "execution_count": 34,
   "metadata": {},
   "outputs": [
    {
     "name": "stdout",
     "output_type": "stream",
     "text": [
      "No question mark..!!\n"
     ]
    }
   ],
   "source": [
    "# Ask user to input a string and check if the string ends with '?'\n",
    "\n",
    "sentence = input('Enter a string >')\n",
    "if sentence.endswith(\"?\"):\n",
    "    print(sentence,\"?\")\n",
    "else:\n",
    "    print(\"No question mark..!!\")"
   ]
  },
  {
   "cell_type": "code",
   "execution_count": 37,
   "metadata": {},
   "outputs": [
    {
     "name": "stdout",
     "output_type": "stream",
     "text": [
      "2\n"
     ]
    }
   ],
   "source": [
    "# Ask user to input a string and print how many times e appeared in the string\n",
    "\n",
    "c = 0\n",
    "s = input(\"Enter a string > \")\n",
    "for i in range(len(s)) :\n",
    "    if (s[i] == 'e'):\n",
    "        c = c+1\n",
    "print(c)"
   ]
  },
  {
   "cell_type": "code",
   "execution_count": 41,
   "metadata": {},
   "outputs": [
    {
     "name": "stdout",
     "output_type": "stream",
     "text": [
      "Not a Number...!\n"
     ]
    }
   ],
   "source": [
    "# Check if the user input is a number.\n",
    "\n",
    "a=input(\"Enter anything > \")\n",
    "if a.isnumeric():\n",
    "    print('Number')\n",
    "else:\n",
    "    print('Not a Number...!')\n"
   ]
  },
  {
   "cell_type": "code",
   "execution_count": 42,
   "metadata": {},
   "outputs": [
    {
     "data": {
      "text/plain": [
       "'this is not a good string'"
      ]
     },
     "execution_count": 42,
     "metadata": {},
     "output_type": "execute_result"
    }
   ],
   "source": [
    "# Remove the extra spaces in beginning and in the end of the following string-\n",
    "# text = '   this is not a good string \n",
    "\n",
    "text = '   this is not a good string            '\n",
    "text.strip()     "
   ]
  },
  {
   "cell_type": "code",
   "execution_count": 48,
   "metadata": {},
   "outputs": [
    {
     "name": "stdout",
     "output_type": "stream",
     "text": [
      "Not Found..!!\n"
     ]
    }
   ],
   "source": [
    "# Ask user to input string, print found if any of the character is upper case.\n",
    "\n",
    "str_u = input(\"Enter a string >\")\n",
    "if (str_u >= 'A' and str_u <= 'Z'):\n",
    "    print(\"Found\")\n",
    "else: \n",
    "    print('Not Found..!!')"
   ]
  },
  {
   "cell_type": "code",
   "execution_count": 50,
   "metadata": {},
   "outputs": [
    {
     "data": {
      "text/plain": [
       "['Joe , David , Mark , Tom , Chris , Robert']"
      ]
     },
     "execution_count": 50,
     "metadata": {},
     "output_type": "execute_result"
    }
   ],
   "source": [
    "# Extract names from the following string and store them in a list.\n",
    "# names = 'Joe, David, Mark, Tom, Chris, Robert'\n",
    "\n",
    "names = 'Joe , David , Mark , Tom , Chris , Robert'\n",
    "new_name = []\n",
    "new_name.append(names)\n",
    "new_name"
   ]
  },
  {
   "cell_type": "code",
   "execution_count": 53,
   "metadata": {},
   "outputs": [
    {
     "name": "stdout",
     "output_type": "stream",
     "text": [
      "thisaye\n",
      "isaye\n",
      "someaye\n",
      "textaye\n"
     ]
    }
   ],
   "source": [
    "# In the following string, add aye in the end of every word and print the results.\n",
    "# text = 'this is some text'\n",
    "\n",
    "text = 'this is some text'\n",
    "x=text.split()\n",
    "for i in x:\n",
    "    i=i+'aye'\n",
    "    print(i)"
   ]
  },
  {
   "cell_type": "code",
   "execution_count": 55,
   "metadata": {},
   "outputs": [
    {
     "name": "stdout",
     "output_type": "stream",
     "text": [
      "Not found!\n"
     ]
    }
   ],
   "source": [
    "# ask user to enter a string and check if the string contains fyi\n",
    "\n",
    "stru=input(\"Enter string\")\n",
    "substring = \"fyi\"\n",
    "\n",
    "if substring in stru:\n",
    "    print(\"Found!\")\n",
    "else:\n",
    "    print(\"Not found!\")"
   ]
  },
  {
   "cell_type": "code",
   "execution_count": 56,
   "metadata": {},
   "outputs": [
    {
     "name": "stdout",
     "output_type": "stream",
     "text": [
      "p434yyufyydug\n"
     ]
    }
   ],
   "source": [
    "# Remove all the special characters and numbers from the following string\n",
    "# text = '%p34@y!*-*!t68h#&on404'\n",
    "\n",
    "from string import punctuation\n",
    "text = '%!@#$%^&*()p434@y!yufy[]ydug'\n",
    "for p in punctuation:\n",
    "    text =text.replace(p,\"\")\n",
    "print(text)"
   ]
  },
  {
   "cell_type": "code",
   "execution_count": 57,
   "metadata": {},
   "outputs": [
    {
     "name": "stdout",
     "output_type": "stream",
     "text": [
      "Avg >  4.666666666666667\n"
     ]
    }
   ],
   "source": [
    "# calculate the average word length of the following paragraph.\n",
    "# this is a paragraph which is written just for the purpose of providing content to let the \n",
    "\n",
    "sentence='hello to python welcome to python'\n",
    "words=sentence.split()\n",
    "sizes=[]\n",
    "for word in words:\n",
    "    sizes.append(len(word))\n",
    "sizes\n",
    "print (\"Avg > \",sum(sizes)/len(sizes))"
   ]
  },
  {
   "cell_type": "code",
   "execution_count": null,
   "metadata": {},
   "outputs": [],
   "source": []
  }
 ],
 "metadata": {
  "interpreter": {
   "hash": "14be6224c2981fa6484923dc5e53a5bfbd3f9d5b4557d53514eb49a573700d58"
  },
  "kernelspec": {
   "display_name": "Python 3.9.5 ('base')",
   "language": "python",
   "name": "python3"
  },
  "language_info": {
   "codemirror_mode": {
    "name": "ipython",
    "version": 3
   },
   "file_extension": ".py",
   "mimetype": "text/x-python",
   "name": "python",
   "nbconvert_exporter": "python",
   "pygments_lexer": "ipython3",
   "version": "3.9.7"
  },
  "orig_nbformat": 4
 },
 "nbformat": 4,
 "nbformat_minor": 2
}
