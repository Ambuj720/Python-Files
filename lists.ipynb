{
 "cells": [
  {
   "cell_type": "markdown",
   "metadata": {},
   "source": [
    "# List\n",
    "- list is mutable(item add ,remove)\n",
    "- list is hetrogenos (mixed data types)\n",
    "- can have duplicate values\n",
    "- Indexed (indexed and cam be sliced)\n",
    "- list uses '[]' brackets with values inside it seperated with commas\n",
    "\n",
    "### What to learn\n",
    "- #### creating a list\n",
    "- #### indexing and slicing\n",
    "- #### traversal (loping)\n",
    "- #### function (11)\n",
    "- #### comprehension\n",
    "- #### lambda, map and filter"
   ]
  },
  {
   "cell_type": "code",
   "execution_count": 2,
   "metadata": {},
   "outputs": [],
   "source": [
    "names=['Ambuj','Adidas','Manchester','Unted','Cristiano','Ronaldo']\n",
    "factors=[1,2,3,5,7,8,9]\n",
    "info=['Ravi']\n",
    "c2d=[[2,3,4],[3,4,5],[4,5,7]]\n",
    "fact"
   ]
  },
  {
   "cell_type": "code",
   "execution_count": 3,
   "metadata": {},
   "outputs": [
    {
     "data": {
      "text/plain": [
       "[1, 1, 1, 1, 1, 1, 1, 1, 1, 1]"
      ]
     },
     "execution_count": 3,
     "metadata": {},
     "output_type": "execute_result"
    }
   ],
   "source": [
    "x=[1]*10\n",
    "x"
   ]
  },
  {
   "cell_type": "code",
   "execution_count": 5,
   "metadata": {},
   "outputs": [
    {
     "data": {
      "text/plain": [
       "['', 'simple', 9]"
      ]
     },
     "execution_count": 5,
     "metadata": {},
     "output_type": "execute_result"
    }
   ],
   "source": [
    "a=10\n",
    "b='simple'\n",
    "c=9\n",
    "l=[a,b,c]\n",
    "l"
   ]
  },
  {
   "cell_type": "code",
   "execution_count": 6,
   "metadata": {},
   "outputs": [
    {
     "name": "stdout",
     "output_type": "stream",
     "text": [
      "[10, 20, 30]\n"
     ]
    }
   ],
   "source": [
    "expenses=[]\n",
    "expenses.append(10)\n",
    "expenses.append(20)\n",
    "expenses.append(30)\n",
    "print(expenses)"
   ]
  },
  {
   "cell_type": "code",
   "execution_count": 7,
   "metadata": {},
   "outputs": [
    {
     "name": "stdout",
     "output_type": "stream",
     "text": [
      "['A', 'b', 'c']\n"
     ]
    }
   ],
   "source": [
    "fav=[]\n",
    "for i in range(3):\n",
    "    food=input(\"Enter food name >\")\n",
    "    fav.append(food)\n",
    "print(fav)"
   ]
  },
  {
   "cell_type": "code",
   "execution_count": 12,
   "metadata": {},
   "outputs": [
    {
     "name": "stdout",
     "output_type": "stream",
     "text": [
      "[0]\n"
     ]
    }
   ],
   "source": [
    "nums = []\n",
    "for i in range(1,):\n",
    "    nums.append(i)\n",
    "print(nums)"
   ]
  },
  {
   "cell_type": "markdown",
   "metadata": {},
   "source": [
    "### Functions\n",
    "\n",
    "- adding items\n",
    "    - append\n",
    "    - insert\n",
    "    - extend\n",
    "- delete items\n",
    "    - remove\n",
    "    - pop\n",
    "    - clear\n",
    "- utility\n",
    "    - reverse\n",
    "    - sort\n",
    "    - count\n",
    "    - index\n",
    "    - copy"
   ]
  },
  {
   "cell_type": "code",
   "execution_count": 1,
   "metadata": {},
   "outputs": [
    {
     "data": {
      "text/plain": [
       "['Apple', 'banana', 'guava', 'cherry']"
      ]
     },
     "execution_count": 1,
     "metadata": {},
     "output_type": "execute_result"
    }
   ],
   "source": [
    "fruits=[]\n",
    "fruits.append('Apple')\n",
    "fruits.append('banana')\n",
    "fruits.append('guava')\n",
    "fruits.append('cherry')\n",
    "fruits"
   ]
  },
  {
   "cell_type": "code",
   "execution_count": 4,
   "metadata": {},
   "outputs": [
    {
     "data": {
      "text/plain": [
       "['Apple', 'banana', 'guava', 'fig', 'fig', 'cherry']"
      ]
     },
     "execution_count": 4,
     "metadata": {},
     "output_type": "execute_result"
    }
   ],
   "source": [
    "fruits.insert(-1,'fig')\n",
    "fruits"
   ]
  },
  {
   "cell_type": "code",
   "execution_count": 6,
   "metadata": {},
   "outputs": [
    {
     "data": {
      "text/plain": [
       "['Apple',\n",
       " 'banana',\n",
       " 'guava',\n",
       " 'fig',\n",
       " 'dragonfruit',\n",
       " 'dragonfruit',\n",
       " 'fig',\n",
       " 'cherry']"
      ]
     },
     "execution_count": 6,
     "metadata": {},
     "output_type": "execute_result"
    }
   ],
   "source": [
    "fruits.insert(-2,'dragonfruit')\n",
    "fruits"
   ]
  },
  {
   "cell_type": "code",
   "execution_count": 7,
   "metadata": {},
   "outputs": [],
   "source": [
    "fruits.insert(100,'rotten apple')  #size zyada hoga"
   ]
  },
  {
   "cell_type": "code",
   "execution_count": 8,
   "metadata": {},
   "outputs": [
    {
     "data": {
      "text/plain": [
       "['Apple',\n",
       " 'banana',\n",
       " 'guava',\n",
       " 'fig',\n",
       " 'dragonfruit',\n",
       " 'dragonfruit',\n",
       " 'fig',\n",
       " 'cherry',\n",
       " 'rotten apple']"
      ]
     },
     "execution_count": 8,
     "metadata": {},
     "output_type": "execute_result"
    }
   ],
   "source": [
    "fruits"
   ]
  },
  {
   "cell_type": "code",
   "execution_count": 9,
   "metadata": {},
   "outputs": [
    {
     "data": {
      "text/plain": [
       "['Apple',\n",
       " 'banana',\n",
       " 'guava',\n",
       " 'fig',\n",
       " 'dragonfruit',\n",
       " 'dragonfruit',\n",
       " 'fig',\n",
       " 'cherry',\n",
       " 'rotten apple',\n",
       " 'Almonds',\n",
       " 'Cashew',\n",
       " 'Wallnuts']"
      ]
     },
     "execution_count": 9,
     "metadata": {},
     "output_type": "execute_result"
    }
   ],
   "source": [
    "dry_fruits=[\"Almonds\",'Cashew','Wallnuts']\n",
    "fruits.extend(dry_fruits)\n",
    "fruits"
   ]
  },
  {
   "cell_type": "code",
   "execution_count": 10,
   "metadata": {},
   "outputs": [
    {
     "data": {
      "text/plain": [
       "12"
      ]
     },
     "execution_count": 10,
     "metadata": {},
     "output_type": "execute_result"
    }
   ],
   "source": [
    "len(fruits)"
   ]
  },
  {
   "cell_type": "code",
   "execution_count": 11,
   "metadata": {},
   "outputs": [
    {
     "name": "stdout",
     "output_type": "stream",
     "text": [
      "No rotten apple found\n"
     ]
    }
   ],
   "source": [
    "if 'rotten apples' in fruits:\n",
    "    fruits.removove('rotten apple')\n",
    "else:\n",
    "    print('No rotten apple found')"
   ]
  },
  {
   "cell_type": "code",
   "execution_count": 12,
   "metadata": {},
   "outputs": [
    {
     "data": {
      "text/plain": [
       "[1, 2, 3, [1, 2, 3, 4]]"
      ]
     },
     "execution_count": 12,
     "metadata": {},
     "output_type": "execute_result"
    }
   ],
   "source": [
    "x=[1,2,3,[1,2,3,4]]\n",
    "x"
   ]
  },
  {
   "cell_type": "code",
   "execution_count": 13,
   "metadata": {},
   "outputs": [
    {
     "data": {
      "text/plain": [
       "[1, 2, 3, [1, 3, 4]]"
      ]
     },
     "execution_count": 13,
     "metadata": {},
     "output_type": "execute_result"
    }
   ],
   "source": [
    "if 2 in x[3]:\n",
    "    x[3].remove(2)\n",
    "x"
   ]
  },
  {
   "cell_type": "markdown",
   "metadata": {},
   "source": [
    "### Pop can be used in 2 ways\n",
    "- 'list.pop()' => remove the last value in the list and gives that value\n",
    "- 'list.pop(index)' => remove the value at that index in the list and gives that value"
   ]
  },
  {
   "cell_type": "code",
   "execution_count": 14,
   "metadata": {},
   "outputs": [
    {
     "name": "stdout",
     "output_type": "stream",
     "text": [
      "Removed value =>  Wallnuts\n",
      "list => ['Apple', 'banana', 'guava', 'fig', 'dragonfruit', 'dragonfruit', 'fig', 'cherry', 'rotten apple', 'Almonds', 'Cashew']\n"
     ]
    }
   ],
   "source": [
    "v=fruits.pop()\n",
    "print('Removed value => ',v)\n",
    "print('list =>',fruits)"
   ]
  },
  {
   "cell_type": "code",
   "execution_count": 17,
   "metadata": {},
   "outputs": [
    {
     "data": {
      "text/plain": [
       "[]"
      ]
     },
     "execution_count": 17,
     "metadata": {},
     "output_type": "execute_result"
    }
   ],
   "source": [
    "fruits.clear()\n",
    "fruits"
   ]
  },
  {
   "cell_type": "code",
   "execution_count": 19,
   "metadata": {},
   "outputs": [],
   "source": [
    "fruits.append(1)"
   ]
  },
  {
   "cell_type": "code",
   "execution_count": 22,
   "metadata": {},
   "outputs": [
    {
     "name": "stdout",
     "output_type": "stream",
     "text": [
      "Reverse\n",
      " ['movie12', 'movie11', 'movie10', 'movie9', 'movie8', 'movie7', 'movie6', 'movie5', 'movie4', 'movie3', 'movie2', 'movie1']\n"
     ]
    }
   ],
   "source": [
    "movies=['movie1','movie2','movie3','movie4','movie5','movie6','movie7','movie8','movie9','movie10','movie11','movie12']\n",
    "movies.reverse()\n",
    "print(\"Reverse\\n\",movies)"
   ]
  },
  {
   "cell_type": "code",
   "execution_count": 23,
   "metadata": {},
   "outputs": [
    {
     "data": {
      "text/plain": [
       "['movie1',\n",
       " 'movie10',\n",
       " 'movie11',\n",
       " 'movie12',\n",
       " 'movie2',\n",
       " 'movie3',\n",
       " 'movie4',\n",
       " 'movie5',\n",
       " 'movie6',\n",
       " 'movie7',\n",
       " 'movie8',\n",
       " 'movie9']"
      ]
     },
     "execution_count": 23,
     "metadata": {},
     "output_type": "execute_result"
    }
   ],
   "source": [
    "movies.sort()\n",
    "movies"
   ]
  },
  {
   "cell_type": "code",
   "execution_count": 24,
   "metadata": {},
   "outputs": [],
   "source": [
    "movies.sort(reverse=True)"
   ]
  },
  {
   "cell_type": "code",
   "execution_count": 25,
   "metadata": {},
   "outputs": [
    {
     "data": {
      "text/plain": [
       "['movie9',\n",
       " 'movie8',\n",
       " 'movie7',\n",
       " 'movie6',\n",
       " 'movie5',\n",
       " 'movie4',\n",
       " 'movie3',\n",
       " 'movie2',\n",
       " 'movie12',\n",
       " 'movie11',\n",
       " 'movie10',\n",
       " 'movie1']"
      ]
     },
     "execution_count": 25,
     "metadata": {},
     "output_type": "execute_result"
    }
   ],
   "source": [
    "movies"
   ]
  },
  {
   "cell_type": "code",
   "execution_count": 26,
   "metadata": {},
   "outputs": [
    {
     "data": {
      "text/plain": [
       "['movie9',\n",
       " 'movie8',\n",
       " 'movie7',\n",
       " 'movie6',\n",
       " 'movie5',\n",
       " 'movie4',\n",
       " 'movie3',\n",
       " 'movie2',\n",
       " 'movie12',\n",
       " 'movie11',\n",
       " 'movie10',\n",
       " 'movie1']"
      ]
     },
     "execution_count": 26,
     "metadata": {},
     "output_type": "execute_result"
    }
   ],
   "source": [
    "dup_mov=movies.copy()\n",
    "dup_mov"
   ]
  },
  {
   "cell_type": "code",
   "execution_count": 28,
   "metadata": {},
   "outputs": [
    {
     "data": {
      "text/plain": [
       "9"
      ]
     },
     "execution_count": 28,
     "metadata": {},
     "output_type": "execute_result"
    }
   ],
   "source": [
    "movies.index('movie11')"
   ]
  },
  {
   "cell_type": "code",
   "execution_count": 30,
   "metadata": {},
   "outputs": [
    {
     "name": "stdout",
     "output_type": "stream",
     "text": [
      "9\n"
     ]
    }
   ],
   "source": [
    "if 'movie9' in movies:\n",
    "    print(movies.index('movie11'))"
   ]
  },
  {
   "cell_type": "code",
   "execution_count": 33,
   "metadata": {},
   "outputs": [
    {
     "data": {
      "text/plain": [
       "4"
      ]
     },
     "execution_count": 33,
     "metadata": {},
     "output_type": "execute_result"
    }
   ],
   "source": [
    "x=[1,2,3,4,5,5,6,67,87,8,8,88,9,99,9,9,9,99]\n",
    "x.count(9)"
   ]
  },
  {
   "cell_type": "code",
   "execution_count": 1,
   "metadata": {},
   "outputs": [
    {
     "data": {
      "text/plain": [
       "[1, 2, 3, 4, 5, 6, 7, 8, 9, 1, 2, 3, 4, 5, 6]"
      ]
     },
     "execution_count": 1,
     "metadata": {},
     "output_type": "execute_result"
    }
   ],
   "source": [
    "nums = []\n",
    "for i in range(15):\n",
    "    val=int(input(f'Enter {i+1} nos. >'))\n",
    "    nums.append(val)\n",
    "nums\n"
   ]
  },
  {
   "cell_type": "code",
   "execution_count": 2,
   "metadata": {},
   "outputs": [
    {
     "name": "stdout",
     "output_type": "stream",
     "text": [
      "sum of nums =  66\n",
      "min of nums =  1\n",
      "max of nums =  9\n",
      "mean of values =  4.4\n"
     ]
    }
   ],
   "source": [
    "print('sum of nums = ',sum(nums))\n",
    "print('min of nums = ',min(nums))\n",
    "print('max of nums = ',max(nums))\n",
    "print('mean of values = ',sum(nums)/len(nums))"
   ]
  },
  {
   "cell_type": "code",
   "execution_count": null,
   "metadata": {},
   "outputs": [],
   "source": []
  }
 ],
 "metadata": {
  "interpreter": {
   "hash": "14be6224c2981fa6484923dc5e53a5bfbd3f9d5b4557d53514eb49a573700d58"
  },
  "kernelspec": {
   "display_name": "Python 3.9.5 ('base')",
   "language": "python",
   "name": "python3"
  },
  "language_info": {
   "codemirror_mode": {
    "name": "ipython",
    "version": 3
   },
   "file_extension": ".py",
   "mimetype": "text/x-python",
   "name": "python",
   "nbconvert_exporter": "python",
   "pygments_lexer": "ipython3",
   "version": "3.9.5"
  },
  "orig_nbformat": 4
 },
 "nbformat": 4,
 "nbformat_minor": 2
}
